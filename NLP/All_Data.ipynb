{
 "cells": [
  {
   "cell_type": "markdown",
   "metadata": {},
   "source": [
    "<div style=\"text-align: right\"> Last update: 07/31/2021 17:50 CDT </div>"
   ]
  },
  {
   "cell_type": "markdown",
   "metadata": {},
   "source": [
    "### `Reading data and importing libraries`"
   ]
  },
  {
   "cell_type": "code",
   "execution_count": 1,
   "metadata": {},
   "outputs": [],
   "source": [
    "from datetime import date\n",
    "\n",
    "import pandas as pd\n",
    "import numpy as np\n",
    "from daten import WhatsappDaten, HistDaten\n",
    "\n",
    "import matplotlib.pyplot as plt\n",
    "\n",
    "refresh = \".07.2021\"\n",
    "path = \"input data/\"\n",
    "\n",
    "# IMPORTANT: make sure that most recent date is of the Whatsapp-file\n",
    "# Data up to jul 31\n",
    "whats_file = \"WhatsApp Chat with Tenemos.txt\"\n",
    "# Data up to jul 02\n",
    "histo_file = \"all_data_02-Jul-2021_1625202000.csv\" \n",
    "\n",
    "\n",
    "save_allData = True"
   ]
  },
  {
   "cell_type": "code",
   "execution_count": 2,
   "metadata": {
    "scrolled": false
   },
   "outputs": [
    {
     "name": "stdout",
     "output_type": "stream",
     "text": [
      "WARNING: Remember to update the custom code for new data in WatsappDaten.py\n"
     ]
    }
   ],
   "source": [
    "new_data = WhatsappDaten.read_data(path, whats_file, refresh)\n",
    "historical = pd.read_csv(path+histo_file)\n",
    "df = HistDaten.merge_data(historical, new_data, save_allData)"
   ]
  },
  {
   "cell_type": "code",
   "execution_count": 3,
   "metadata": {},
   "outputs": [],
   "source": [
    "credit_hist = df[df.type.isin([\"pcr\"])].copy()\n",
    "df = df[~df.type.isin([\"pcr\"])].copy()"
   ]
  },
  {
   "cell_type": "code",
   "execution_count": 4,
   "metadata": {},
   "outputs": [
    {
     "data": {
      "text/html": [
       "<div>\n",
       "<style scoped>\n",
       "    .dataframe tbody tr th:only-of-type {\n",
       "        vertical-align: middle;\n",
       "    }\n",
       "\n",
       "    .dataframe tbody tr th {\n",
       "        vertical-align: top;\n",
       "    }\n",
       "\n",
       "    .dataframe thead th {\n",
       "        text-align: right;\n",
       "    }\n",
       "</style>\n",
       "<table border=\"1\" class=\"dataframe\">\n",
       "  <thead>\n",
       "    <tr style=\"text-align: right;\">\n",
       "      <th></th>\n",
       "      <th>type</th>\n",
       "      <th>posteddate</th>\n",
       "      <th>transactiondate</th>\n",
       "      <th>currency</th>\n",
       "      <th>source</th>\n",
       "      <th>amount</th>\n",
       "      <th>vendor</th>\n",
       "      <th>memo</th>\n",
       "      <th>category</th>\n",
       "      <th>who</th>\n",
       "      <th>localcurrency</th>\n",
       "    </tr>\n",
       "  </thead>\n",
       "  <tbody>\n",
       "    <tr>\n",
       "      <th>523</th>\n",
       "      <td>pcr</td>\n",
       "      <td>2021-07-13</td>\n",
       "      <td>2021-07-13</td>\n",
       "      <td>mxn</td>\n",
       "      <td>BBVA cr</td>\n",
       "      <td>1933.08</td>\n",
       "      <td>Bbva Cr</td>\n",
       "      <td>pago tarjeta de credito</td>\n",
       "      <td>Credito</td>\n",
       "      <td>Karina</td>\n",
       "      <td>mxn</td>\n",
       "    </tr>\n",
       "    <tr>\n",
       "      <th>541</th>\n",
       "      <td>pcr</td>\n",
       "      <td>2021-07-24</td>\n",
       "      <td>2021-07-24</td>\n",
       "      <td>mxn</td>\n",
       "      <td>BBVA cr</td>\n",
       "      <td>838.50</td>\n",
       "      <td>Bbva Cr</td>\n",
       "      <td>Pago de Tarjeta de Crédito</td>\n",
       "      <td>Credito</td>\n",
       "      <td>Karina</td>\n",
       "      <td>mxn</td>\n",
       "    </tr>\n",
       "    <tr>\n",
       "      <th>554</th>\n",
       "      <td>pcr</td>\n",
       "      <td>2021-07-31</td>\n",
       "      <td>2021-07-31</td>\n",
       "      <td>mxn</td>\n",
       "      <td>BBVA cr</td>\n",
       "      <td>108.31</td>\n",
       "      <td>Bbva Cr</td>\n",
       "      <td>Pago de Tarjeta de Crédito</td>\n",
       "      <td>Credito</td>\n",
       "      <td>Karina</td>\n",
       "      <td>mxn</td>\n",
       "    </tr>\n",
       "  </tbody>\n",
       "</table>\n",
       "</div>"
      ],
      "text/plain": [
       "    type  posteddate transactiondate currency   source   amount   vendor  \\\n",
       "523  pcr  2021-07-13      2021-07-13      mxn  BBVA cr  1933.08  Bbva Cr   \n",
       "541  pcr  2021-07-24      2021-07-24      mxn  BBVA cr   838.50  Bbva Cr   \n",
       "554  pcr  2021-07-31      2021-07-31      mxn  BBVA cr   108.31  Bbva Cr   \n",
       "\n",
       "                           memo category     who localcurrency  \n",
       "523     pago tarjeta de credito  Credito  Karina           mxn  \n",
       "541  Pago de Tarjeta de Crédito  Credito  Karina           mxn  \n",
       "554  Pago de Tarjeta de Crédito  Credito  Karina           mxn  "
      ]
     },
     "execution_count": 4,
     "metadata": {},
     "output_type": "execute_result"
    }
   ],
   "source": [
    "credit_hist"
   ]
  },
  {
   "cell_type": "markdown",
   "metadata": {},
   "source": [
    "#### Importante\n",
    "\n",
    "El valor de 1 punto es de $ 0.07 mxn"
   ]
  },
  {
   "cell_type": "markdown",
   "metadata": {},
   "source": [
    "---\n",
    "---\n",
    "\n",
    "<h1>\n",
    "    <center>\n",
    "    Karina & Carlos Data Analysis\n",
    "    </center>\n",
    "</h1>\n",
    "\n",
    "#### All Time"
   ]
  },
  {
   "cell_type": "code",
   "execution_count": 5,
   "metadata": {},
   "outputs": [
    {
     "name": "stdout",
     "output_type": "stream",
     "text": [
      "CURRENT AMOUNT: mxn 92,066.34\n",
      "NON-ESSENTIAL SPEND, PERCENTAGE: 31.12%\n",
      "SAVINGS, PERCENTAGE: 29.1%\n",
      "\n",
      "\n",
      "CURRENT AMOUNT: eur 8,259.86\n",
      "NON-ESSENTIAL SPEND, PERCENTAGE: 13.11%\n",
      "SAVINGS, PERCENTAGE: 59.69%\n"
     ]
    }
   ],
   "source": [
    "HistDaten.print_spendInfo(df,\"mxn\")\n",
    "print(\"\\n\")\n",
    "HistDaten.print_spendInfo(df,\"eur\")"
   ]
  },
  {
   "cell_type": "code",
   "execution_count": 6,
   "metadata": {},
   "outputs": [
    {
     "name": "stdout",
     "output_type": "stream",
     "text": [
      "Karina's Data\n",
      "CURRENT AMOUNT: mxn 97,291.69\n",
      "NON-ESSENTIAL SPEND, PERCENTAGE: 30.68%\n",
      "SAVINGS, PERCENTAGE: 39.45%\n"
     ]
    }
   ],
   "source": [
    "HistDaten.print_spendInfo(df,\"mxn\",\"Karina\")"
   ]
  },
  {
   "cell_type": "code",
   "execution_count": 7,
   "metadata": {},
   "outputs": [
    {
     "name": "stdout",
     "output_type": "stream",
     "text": [
      "Carlos's Data\n",
      "CURRENT AMOUNT: eur 9,209.86\n",
      "NON-ESSENTIAL SPEND, PERCENTAGE: 13.11%\n",
      "SAVINGS, PERCENTAGE: 66.56%\n"
     ]
    }
   ],
   "source": [
    "HistDaten.print_spendInfo(df,\"eur\",\"Carlos\")"
   ]
  },
  {
   "cell_type": "code",
   "execution_count": 8,
   "metadata": {
    "scrolled": false
   },
   "outputs": [
    {
     "data": {
      "image/png": "[encoded data removed]",
      "text/plain": [
       "<Figure size 504x360 with 1 Axes>"
      ]
     },
     "metadata": {
      "needs_background": "light"
     },
     "output_type": "display_data"
    },
    {
     "data": {
      "text/html": [
       "<div>\n",
       "<style scoped>\n",
       "    .dataframe tbody tr th:only-of-type {\n",
       "        vertical-align: middle;\n",
       "    }\n",
       "\n",
       "    .dataframe tbody tr th {\n",
       "        vertical-align: top;\n",
       "    }\n",
       "\n",
       "    .dataframe thead th {\n",
       "        text-align: right;\n",
       "    }\n",
       "</style>\n",
       "<table border=\"1\" class=\"dataframe\">\n",
       "  <thead>\n",
       "    <tr style=\"text-align: right;\">\n",
       "      <th></th>\n",
       "      <th>amount</th>\n",
       "    </tr>\n",
       "    <tr>\n",
       "      <th>category</th>\n",
       "      <th></th>\n",
       "    </tr>\n",
       "  </thead>\n",
       "  <tbody>\n",
       "    <tr>\n",
       "      <th>BBVA Karina</th>\n",
       "      <td>231031.640</td>\n",
       "    </tr>\n",
       "    <tr>\n",
       "      <th>Ingreso Inicial</th>\n",
       "      <td>18971.340</td>\n",
       "    </tr>\n",
       "    <tr>\n",
       "      <th>BBVA Carlos</th>\n",
       "      <td>10000.000</td>\n",
       "    </tr>\n",
       "    <tr>\n",
       "      <th>Efectivo</th>\n",
       "      <td>8700.000</td>\n",
       "    </tr>\n",
       "    <tr>\n",
       "      <th>Unknown</th>\n",
       "      <td>-38.000</td>\n",
       "    </tr>\n",
       "    <tr>\n",
       "      <th>Prestamo</th>\n",
       "      <td>-135.470</td>\n",
       "    </tr>\n",
       "    <tr>\n",
       "      <th>Donaciones</th>\n",
       "      <td>-299.000</td>\n",
       "    </tr>\n",
       "    <tr>\n",
       "      <th>Credito</th>\n",
       "      <td>-789.630</td>\n",
       "    </tr>\n",
       "    <tr>\n",
       "      <th>Viajes</th>\n",
       "      <td>-885.870</td>\n",
       "    </tr>\n",
       "    <tr>\n",
       "      <th>Ch. F. Familia</th>\n",
       "      <td>-1800.250</td>\n",
       "    </tr>\n",
       "    <tr>\n",
       "      <th>Accidente</th>\n",
       "      <td>-4175.840</td>\n",
       "    </tr>\n",
       "    <tr>\n",
       "      <th>Cuidados Personales</th>\n",
       "      <td>-5321.320</td>\n",
       "    </tr>\n",
       "    <tr>\n",
       "      <th>Familia / Amigos</th>\n",
       "      <td>-7877.590</td>\n",
       "    </tr>\n",
       "    <tr>\n",
       "      <th>Deuda</th>\n",
       "      <td>-9191.500</td>\n",
       "    </tr>\n",
       "    <tr>\n",
       "      <th>Salidas</th>\n",
       "      <td>-13592.340</td>\n",
       "    </tr>\n",
       "    <tr>\n",
       "      <th>Gustos Personales</th>\n",
       "      <td>-34435.000</td>\n",
       "    </tr>\n",
       "    <tr>\n",
       "      <th>Esencial</th>\n",
       "      <td>-42890.460</td>\n",
       "    </tr>\n",
       "    <tr>\n",
       "      <th>Maestria</th>\n",
       "      <td>-55204.373</td>\n",
       "    </tr>\n",
       "  </tbody>\n",
       "</table>\n",
       "</div>"
      ],
      "text/plain": [
       "                         amount\n",
       "category                       \n",
       "BBVA Karina          231031.640\n",
       "Ingreso Inicial       18971.340\n",
       "BBVA Carlos           10000.000\n",
       "Efectivo               8700.000\n",
       "Unknown                 -38.000\n",
       "Prestamo               -135.470\n",
       "Donaciones             -299.000\n",
       "Credito                -789.630\n",
       "Viajes                 -885.870\n",
       "Ch. F. Familia        -1800.250\n",
       "Accidente             -4175.840\n",
       "Cuidados Personales   -5321.320\n",
       "Familia / Amigos      -7877.590\n",
       "Deuda                 -9191.500\n",
       "Salidas              -13592.340\n",
       "Gustos Personales    -34435.000\n",
       "Esencial             -42890.460\n",
       "Maestria             -55204.373"
      ]
     },
     "execution_count": 8,
     "metadata": {},
     "output_type": "execute_result"
    }
   ],
   "source": [
    "HistDaten.category(df,\"mxn\",plot=True, colour=\"olivedrab\")"
   ]
  },
  {
   "cell_type": "code",
   "execution_count": 9,
   "metadata": {},
   "outputs": [
    {
     "data": {
      "image/png": "[encoded data removed]",
      "text/plain": [
       "<Figure size 504x360 with 1 Axes>"
      ]
     },
     "metadata": {
      "needs_background": "light"
     },
     "output_type": "display_data"
    },
    {
     "data": {
      "text/html": [
       "<div>\n",
       "<style scoped>\n",
       "    .dataframe tbody tr th:only-of-type {\n",
       "        vertical-align: middle;\n",
       "    }\n",
       "\n",
       "    .dataframe tbody tr th {\n",
       "        vertical-align: top;\n",
       "    }\n",
       "\n",
       "    .dataframe thead th {\n",
       "        text-align: right;\n",
       "    }\n",
       "</style>\n",
       "<table border=\"1\" class=\"dataframe\">\n",
       "  <thead>\n",
       "    <tr style=\"text-align: right;\">\n",
       "      <th></th>\n",
       "      <th>amount</th>\n",
       "    </tr>\n",
       "    <tr>\n",
       "      <th>category</th>\n",
       "      <th></th>\n",
       "    </tr>\n",
       "  </thead>\n",
       "  <tbody>\n",
       "    <tr>\n",
       "      <th>Revolut</th>\n",
       "      <td>12000.00</td>\n",
       "    </tr>\n",
       "    <tr>\n",
       "      <th>Cash</th>\n",
       "      <td>676.10</td>\n",
       "    </tr>\n",
       "    <tr>\n",
       "      <th>Inversiones</th>\n",
       "      <td>50.78</td>\n",
       "    </tr>\n",
       "    <tr>\n",
       "      <th>Encontrado</th>\n",
       "      <td>20.00</td>\n",
       "    </tr>\n",
       "    <tr>\n",
       "      <th>Familia / Amigos</th>\n",
       "      <td>-18.54</td>\n",
       "    </tr>\n",
       "    <tr>\n",
       "      <th>Donaciones</th>\n",
       "      <td>-21.00</td>\n",
       "    </tr>\n",
       "    <tr>\n",
       "      <th>Accidente</th>\n",
       "      <td>-53.30</td>\n",
       "    </tr>\n",
       "    <tr>\n",
       "      <th>Cuidados Personales</th>\n",
       "      <td>-95.99</td>\n",
       "    </tr>\n",
       "    <tr>\n",
       "      <th>Viajes</th>\n",
       "      <td>-230.29</td>\n",
       "    </tr>\n",
       "    <tr>\n",
       "      <th>Gustos Personales</th>\n",
       "      <td>-385.28</td>\n",
       "    </tr>\n",
       "    <tr>\n",
       "      <th>Salidas</th>\n",
       "      <td>-446.25</td>\n",
       "    </tr>\n",
       "    <tr>\n",
       "      <th>Deuda</th>\n",
       "      <td>-472.70</td>\n",
       "    </tr>\n",
       "    <tr>\n",
       "      <th>Maestria</th>\n",
       "      <td>-877.80</td>\n",
       "    </tr>\n",
       "    <tr>\n",
       "      <th>Esencial</th>\n",
       "      <td>-1885.87</td>\n",
       "    </tr>\n",
       "  </tbody>\n",
       "</table>\n",
       "</div>"
      ],
      "text/plain": [
       "                       amount\n",
       "category                     \n",
       "Revolut              12000.00\n",
       "Cash                   676.10\n",
       "Inversiones             50.78\n",
       "Encontrado              20.00\n",
       "Familia / Amigos       -18.54\n",
       "Donaciones             -21.00\n",
       "Accidente              -53.30\n",
       "Cuidados Personales    -95.99\n",
       "Viajes                -230.29\n",
       "Gustos Personales     -385.28\n",
       "Salidas               -446.25\n",
       "Deuda                 -472.70\n",
       "Maestria              -877.80\n",
       "Esencial             -1885.87"
      ]
     },
     "execution_count": 9,
     "metadata": {},
     "output_type": "execute_result"
    }
   ],
   "source": [
    "HistDaten.category(df,\"eur\",plot=True, colour=\"sandybrown\")"
   ]
  },
  {
   "cell_type": "markdown",
   "metadata": {},
   "source": [
    "### Quality Checks"
   ]
  },
  {
   "cell_type": "code",
   "execution_count": 10,
   "metadata": {},
   "outputs": [
    {
     "data": {
      "text/plain": [
       "array(['out', 'inf', 'pcr'], dtype=object)"
      ]
     },
     "execution_count": 10,
     "metadata": {},
     "output_type": "execute_result"
    }
   ],
   "source": [
    "new_data.type.unique()"
   ]
  },
  {
   "cell_type": "markdown",
   "metadata": {},
   "source": [
    "### Karina Analysis"
   ]
  },
  {
   "cell_type": "code",
   "execution_count": 11,
   "metadata": {},
   "outputs": [],
   "source": [
    "kar = df[df.who.isin([\"Karina\"])]\n",
    "kar_cats = kar.groupby('category').sum()"
   ]
  },
  {
   "cell_type": "code",
   "execution_count": 12,
   "metadata": {},
   "outputs": [],
   "source": [
    "ess = [ \"Esencial\", \"Maestria\"]\n",
    "non_ess = [\n",
    "    x for x in list(kar_cats.index) \\\n",
    "    if x not in ([\"BBVA Karina\", \"Ch. F. Familia\"] + ess)\n",
    "]"
   ]
  },
  {
   "cell_type": "code",
   "execution_count": 13,
   "metadata": {},
   "outputs": [
    {
     "data": {
      "text/plain": [
       "25.428908533975942"
      ]
     },
     "execution_count": 13,
     "metadata": {},
     "output_type": "execute_result"
    }
   ],
   "source": [
    "(kar_cats.loc[ess].amount.sum()/kar_cats.loc[\"BBVA Karina\"].amount)*-100"
   ]
  },
  {
   "cell_type": "code",
   "execution_count": 14,
   "metadata": {},
   "outputs": [
    {
     "data": {
      "text/plain": [
       "27.507758534867904"
      ]
     },
     "execution_count": 14,
     "metadata": {},
     "output_type": "execute_result"
    }
   ],
   "source": [
    "(kar_cats.loc[non_ess].amount.sum()/kar_cats.loc[\"BBVA Karina\"].amount)*-100"
   ]
  },
  {
   "cell_type": "code",
   "execution_count": 15,
   "metadata": {},
   "outputs": [
    {
     "data": {
      "text/plain": [
       "13.859508322094433"
      ]
     },
     "execution_count": 15,
     "metadata": {},
     "output_type": "execute_result"
    }
   ],
   "source": [
    "(kar_cats.loc[\"Gustos Personales\"].values[0] / kar_cats.loc[\"BBVA Karina\"].values[0])*-100"
   ]
  },
  {
   "cell_type": "code",
   "execution_count": 16,
   "metadata": {},
   "outputs": [
    {
     "data": {
      "text/plain": [
       "9.154486101006063"
      ]
     },
     "execution_count": 16,
     "metadata": {},
     "output_type": "execute_result"
    }
   ],
   "source": [
    "(kar[kar.memo.isin([\"Tatuaje\"])].amount.sum() / kar_cats.loc[\"BBVA Karina\"].values[0])*-100"
   ]
  },
  {
   "cell_type": "code",
   "execution_count": 17,
   "metadata": {},
   "outputs": [
    {
     "data": {
      "text/html": [
       "<div>\n",
       "<style scoped>\n",
       "    .dataframe tbody tr th:only-of-type {\n",
       "        vertical-align: middle;\n",
       "    }\n",
       "\n",
       "    .dataframe tbody tr th {\n",
       "        vertical-align: top;\n",
       "    }\n",
       "\n",
       "    .dataframe thead th {\n",
       "        text-align: right;\n",
       "    }\n",
       "</style>\n",
       "<table border=\"1\" class=\"dataframe\">\n",
       "  <thead>\n",
       "    <tr style=\"text-align: right;\">\n",
       "      <th></th>\n",
       "      <th>type</th>\n",
       "      <th>posteddate</th>\n",
       "      <th>transactiondate</th>\n",
       "      <th>currency</th>\n",
       "      <th>source</th>\n",
       "      <th>amount</th>\n",
       "      <th>vendor</th>\n",
       "      <th>memo</th>\n",
       "      <th>category</th>\n",
       "      <th>who</th>\n",
       "      <th>localcurrency</th>\n",
       "    </tr>\n",
       "  </thead>\n",
       "  <tbody>\n",
       "    <tr>\n",
       "      <th>440</th>\n",
       "      <td>out</td>\n",
       "      <td>nan</td>\n",
       "      <td>2021-06-07</td>\n",
       "      <td>mxn</td>\n",
       "      <td>BBVA</td>\n",
       "      <td>-239.00</td>\n",
       "      <td>Caseta</td>\n",
       "      <td>Caseta Santa Cecilia</td>\n",
       "      <td>Ch. F. Familia</td>\n",
       "      <td>Karina</td>\n",
       "      <td>nan</td>\n",
       "    </tr>\n",
       "    <tr>\n",
       "      <th>441</th>\n",
       "      <td>out</td>\n",
       "      <td>nan</td>\n",
       "      <td>2021-06-07</td>\n",
       "      <td>mxn</td>\n",
       "      <td>BBVA</td>\n",
       "      <td>-500.00</td>\n",
       "      <td>PetroMax</td>\n",
       "      <td>Gasolina</td>\n",
       "      <td>Ch. F. Familia</td>\n",
       "      <td>Karina</td>\n",
       "      <td>nan</td>\n",
       "    </tr>\n",
       "    <tr>\n",
       "      <th>443</th>\n",
       "      <td>inf</td>\n",
       "      <td>2021-06-08</td>\n",
       "      <td>2021-06-08</td>\n",
       "      <td>mxn</td>\n",
       "      <td>BBVA</td>\n",
       "      <td>2000.00</td>\n",
       "      <td>Rodolfo (Papá)</td>\n",
       "      <td>Gastos Familiares</td>\n",
       "      <td>Ch. F. Familia</td>\n",
       "      <td>Karina</td>\n",
       "      <td>nan</td>\n",
       "    </tr>\n",
       "    <tr>\n",
       "      <th>446</th>\n",
       "      <td>out</td>\n",
       "      <td>2021-06-24</td>\n",
       "      <td>2021-06-11</td>\n",
       "      <td>mxn</td>\n",
       "      <td>BBVA</td>\n",
       "      <td>-1000.00</td>\n",
       "      <td>Dra. Dalia Denisse Ng Aleman</td>\n",
       "      <td>Cita Ojos</td>\n",
       "      <td>Ch. F. Familia</td>\n",
       "      <td>Karina</td>\n",
       "      <td>nan</td>\n",
       "    </tr>\n",
       "    <tr>\n",
       "      <th>470</th>\n",
       "      <td>inf</td>\n",
       "      <td>2021-06-24</td>\n",
       "      <td>2021-06-22</td>\n",
       "      <td>mxn</td>\n",
       "      <td>BBVA</td>\n",
       "      <td>2000.00</td>\n",
       "      <td>Rodolfo (Papá)</td>\n",
       "      <td>Gastos Familiares</td>\n",
       "      <td>Ch. F. Familia</td>\n",
       "      <td>Karina</td>\n",
       "      <td>nan</td>\n",
       "    </tr>\n",
       "    <tr>\n",
       "      <th>472</th>\n",
       "      <td>out</td>\n",
       "      <td>2021-06-24</td>\n",
       "      <td>2021-06-23</td>\n",
       "      <td>mxn</td>\n",
       "      <td>BBVA</td>\n",
       "      <td>-900.72</td>\n",
       "      <td>Farmacias Guadalajara</td>\n",
       "      <td>Medicina</td>\n",
       "      <td>Ch. F. Familia</td>\n",
       "      <td>Karina</td>\n",
       "      <td>nan</td>\n",
       "    </tr>\n",
       "    <tr>\n",
       "      <th>473</th>\n",
       "      <td>out</td>\n",
       "      <td>2021-06-27</td>\n",
       "      <td>2021-06-25</td>\n",
       "      <td>mxn</td>\n",
       "      <td>BBVA</td>\n",
       "      <td>-500.00</td>\n",
       "      <td>PetroMax</td>\n",
       "      <td>Gasolina</td>\n",
       "      <td>Ch. F. Familia</td>\n",
       "      <td>Karina</td>\n",
       "      <td>nan</td>\n",
       "    </tr>\n",
       "    <tr>\n",
       "      <th>479</th>\n",
       "      <td>out</td>\n",
       "      <td>2021-06-30</td>\n",
       "      <td>2021-06-26</td>\n",
       "      <td>mxn</td>\n",
       "      <td>BBVA</td>\n",
       "      <td>-738.10</td>\n",
       "      <td>El Socialista</td>\n",
       "      <td>Comida</td>\n",
       "      <td>Ch. F. Familia</td>\n",
       "      <td>Karina</td>\n",
       "      <td>nan</td>\n",
       "    </tr>\n",
       "    <tr>\n",
       "      <th>488</th>\n",
       "      <td>out</td>\n",
       "      <td>2021-06-30</td>\n",
       "      <td>2021-06-30</td>\n",
       "      <td>mxn</td>\n",
       "      <td>BBVA</td>\n",
       "      <td>-1000.00</td>\n",
       "      <td>Adriana (Mamá)</td>\n",
       "      <td>Prestamo</td>\n",
       "      <td>Ch. F. Familia</td>\n",
       "      <td>Karina</td>\n",
       "      <td>nan</td>\n",
       "    </tr>\n",
       "    <tr>\n",
       "      <th>491</th>\n",
       "      <td>out</td>\n",
       "      <td>2021-07-01</td>\n",
       "      <td>2021-06-30</td>\n",
       "      <td>mxn</td>\n",
       "      <td>BBVA cr</td>\n",
       "      <td>-500.00</td>\n",
       "      <td>PetroMax</td>\n",
       "      <td>Gasolina</td>\n",
       "      <td>Ch. F. Familia</td>\n",
       "      <td>Karina</td>\n",
       "      <td>nan</td>\n",
       "    </tr>\n",
       "    <tr>\n",
       "      <th>492</th>\n",
       "      <td>inf</td>\n",
       "      <td>2021-07-01</td>\n",
       "      <td>2021-06-30</td>\n",
       "      <td>mxn</td>\n",
       "      <td>BBVA</td>\n",
       "      <td>2600.00</td>\n",
       "      <td>Rodolfo (Papá)</td>\n",
       "      <td>Gastos Familiares</td>\n",
       "      <td>Ch. F. Familia</td>\n",
       "      <td>Karina</td>\n",
       "      <td>nan</td>\n",
       "    </tr>\n",
       "    <tr>\n",
       "      <th>507</th>\n",
       "      <td>out</td>\n",
       "      <td>2021-07-31</td>\n",
       "      <td>2021-07-07</td>\n",
       "      <td>mxn</td>\n",
       "      <td>BBVA</td>\n",
       "      <td>-1000.00</td>\n",
       "      <td>Dra. Dalia Denisse Ng Aleman</td>\n",
       "      <td>Cita Ojos</td>\n",
       "      <td>Ch. F. Familia</td>\n",
       "      <td>Karina</td>\n",
       "      <td>mxn</td>\n",
       "    </tr>\n",
       "    <tr>\n",
       "      <th>509</th>\n",
       "      <td>out</td>\n",
       "      <td>2021-07-09</td>\n",
       "      <td>2021-07-08</td>\n",
       "      <td>mxn</td>\n",
       "      <td>BBVA cr</td>\n",
       "      <td>-500.00</td>\n",
       "      <td>Petromaxo</td>\n",
       "      <td>gasolina</td>\n",
       "      <td>Ch. F. Familia</td>\n",
       "      <td>Karina</td>\n",
       "      <td>mxn</td>\n",
       "    </tr>\n",
       "    <tr>\n",
       "      <th>533</th>\n",
       "      <td>out</td>\n",
       "      <td>2021-07-18</td>\n",
       "      <td>2021-07-17</td>\n",
       "      <td>mxn</td>\n",
       "      <td>BBVA cr</td>\n",
       "      <td>-332.50</td>\n",
       "      <td>Amazon</td>\n",
       "      <td>Funda cel papá</td>\n",
       "      <td>Ch. F. Familia</td>\n",
       "      <td>Karina</td>\n",
       "      <td>mxn</td>\n",
       "    </tr>\n",
       "    <tr>\n",
       "      <th>550</th>\n",
       "      <td>out</td>\n",
       "      <td>2021-07-29</td>\n",
       "      <td>2021-07-29</td>\n",
       "      <td>mxn</td>\n",
       "      <td>cash</td>\n",
       "      <td>-60.50</td>\n",
       "      <td>Farmacias Guadalajara</td>\n",
       "      <td>Fotos ISSFAM</td>\n",
       "      <td>Ch. F. Familia</td>\n",
       "      <td>Karina</td>\n",
       "      <td>mxn</td>\n",
       "    </tr>\n",
       "  </tbody>\n",
       "</table>\n",
       "</div>"
      ],
      "text/plain": [
       "    type  posteddate transactiondate currency   source   amount  \\\n",
       "440  out         nan      2021-06-07      mxn     BBVA  -239.00   \n",
       "441  out         nan      2021-06-07      mxn     BBVA  -500.00   \n",
       "443  inf  2021-06-08      2021-06-08      mxn     BBVA  2000.00   \n",
       "446  out  2021-06-24      2021-06-11      mxn     BBVA -1000.00   \n",
       "470  inf  2021-06-24      2021-06-22      mxn     BBVA  2000.00   \n",
       "472  out  2021-06-24      2021-06-23      mxn     BBVA  -900.72   \n",
       "473  out  2021-06-27      2021-06-25      mxn     BBVA  -500.00   \n",
       "479  out  2021-06-30      2021-06-26      mxn     BBVA  -738.10   \n",
       "488  out  2021-06-30      2021-06-30      mxn     BBVA -1000.00   \n",
       "491  out  2021-07-01      2021-06-30      mxn  BBVA cr  -500.00   \n",
       "492  inf  2021-07-01      2021-06-30      mxn     BBVA  2600.00   \n",
       "507  out  2021-07-31      2021-07-07      mxn     BBVA -1000.00   \n",
       "509  out  2021-07-09      2021-07-08      mxn  BBVA cr  -500.00   \n",
       "533  out  2021-07-18      2021-07-17      mxn  BBVA cr  -332.50   \n",
       "550  out  2021-07-29      2021-07-29      mxn     cash   -60.50   \n",
       "\n",
       "                           vendor                  memo        category  \\\n",
       "440                        Caseta  Caseta Santa Cecilia  Ch. F. Familia   \n",
       "441                      PetroMax              Gasolina  Ch. F. Familia   \n",
       "443                Rodolfo (Papá)     Gastos Familiares  Ch. F. Familia   \n",
       "446  Dra. Dalia Denisse Ng Aleman             Cita Ojos  Ch. F. Familia   \n",
       "470                Rodolfo (Papá)     Gastos Familiares  Ch. F. Familia   \n",
       "472         Farmacias Guadalajara              Medicina  Ch. F. Familia   \n",
       "473                      PetroMax              Gasolina  Ch. F. Familia   \n",
       "479                 El Socialista                Comida  Ch. F. Familia   \n",
       "488                Adriana (Mamá)              Prestamo  Ch. F. Familia   \n",
       "491                      PetroMax              Gasolina  Ch. F. Familia   \n",
       "492                Rodolfo (Papá)     Gastos Familiares  Ch. F. Familia   \n",
       "507  Dra. Dalia Denisse Ng Aleman             Cita Ojos  Ch. F. Familia   \n",
       "509                     Petromaxo              gasolina  Ch. F. Familia   \n",
       "533                        Amazon        Funda cel papá  Ch. F. Familia   \n",
       "550         Farmacias Guadalajara          Fotos ISSFAM  Ch. F. Familia   \n",
       "\n",
       "        who localcurrency  \n",
       "440  Karina           nan  \n",
       "441  Karina           nan  \n",
       "443  Karina           nan  \n",
       "446  Karina           nan  \n",
       "470  Karina           nan  \n",
       "472  Karina           nan  \n",
       "473  Karina           nan  \n",
       "479  Karina           nan  \n",
       "488  Karina           nan  \n",
       "491  Karina           nan  \n",
       "492  Karina           nan  \n",
       "507  Karina           mxn  \n",
       "509  Karina           mxn  \n",
       "533  Karina           mxn  \n",
       "550  Karina           mxn  "
      ]
     },
     "execution_count": 17,
     "metadata": {},
     "output_type": "execute_result"
    }
   ],
   "source": [
    "kar[kar.category.isin([\"Ch. F. Familia\"]) & (kar.transactiondate.dt.month > 5)]"
   ]
  },
  {
   "cell_type": "code",
   "execution_count": 18,
   "metadata": {},
   "outputs": [
    {
     "data": {
      "text/plain": [
       "-1800.25"
      ]
     },
     "execution_count": 18,
     "metadata": {},
     "output_type": "execute_result"
    }
   ],
   "source": [
    "kar[kar.category.isin([\"Ch. F. Familia\"])].amount.sum()"
   ]
  },
  {
   "cell_type": "markdown",
   "metadata": {},
   "source": [
    "---\n",
    "\n",
    "# 50/20/30 rule\n",
    "\n",
    "* The 50-20-30 (or 50-30-20) budget rule is an intuitive and simple plan to help people reach their financial goals.\n",
    "* The rule states that you should spend up to 50% of your after-tax income on needs and obligations that you must-have or must-do.\n",
    "* The remaining half should be split up between 20% savings and debt repayment and 30% to everything else that you might want.\n",
    "* The rule is a template that is intended to help individuals manage their money and save for emergencies and retirement.\n",
    "\n",
    "[Investopedia](https://www.investopedia.com/ask/answers/022916/what-502030-budget-rule.asp#:~:text=Senator%20Elizabeth%20Warren%20popularized%20the,socking%20away%2020%25%20to%20savings.)"
   ]
  }
 ],
 "metadata": {
  "kernelspec": {
   "display_name": "Python 3",
   "language": "python",
   "name": "python3"
  },
  "language_info": {
   "codemirror_mode": {
    "name": "ipython",
    "version": 3
   },
   "file_extension": ".py",
   "mimetype": "text/x-python",
   "name": "python",
   "nbconvert_exporter": "python",
   "pygments_lexer": "ipython3",
   "version": "3.8.10"
  }
 },
 "nbformat": 4,
 "nbformat_minor": 4
}
