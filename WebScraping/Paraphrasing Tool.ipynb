{
 "cells": [
  {
   "cell_type": "markdown",
   "id": "fc879a06",
   "metadata": {},
   "source": [
    "## Code for automating the paraphrasing of specific texts given a file."
   ]
  },
  {
   "cell_type": "code",
   "execution_count": 1,
   "id": "e495ffe7",
   "metadata": {},
   "outputs": [],
   "source": [
    "import pandas as pd\n",
    "import numpy as np\n",
    "import os\n",
    "import sys\n",
    "import requests\n",
    "import shutil\n",
    "import chime; chime.theme('mario')\n",
    "import time\n",
    "\n",
    "from selenium import webdriver\n",
    "from selenium.webdriver.common.keys import Keys\n",
    "from selenium.webdriver.common.action_chains import ActionChains\n",
    "from selenium.webdriver.common.by import By\n",
    "from selenium.webdriver.common.keys import Keys\n",
    "from selenium.webdriver.support.wait import WebDriverWait\n",
    "from datetime import date, datetime\n",
    "from IPython.core.debugger import Pdb #Pdb().set_trace()\n",
    "\n",
    "\n",
    "# Define your login credentials\n",
    "username = \"xxxxxxx@xxxxxx.xxxx\"\n",
    "password = \"xxx\""
   ]
  },
  {
   "cell_type": "code",
   "execution_count": 2,
   "id": "d43b549a",
   "metadata": {},
   "outputs": [],
   "source": [
    "all_files = sorted(os.listdir('data/'))[:8]"
   ]
  },
  {
   "cell_type": "code",
   "execution_count": 3,
   "id": "43ad2ab4",
   "metadata": {},
   "outputs": [
    {
     "data": {
      "text/plain": [
       "{0: 'Entertainment',\n",
       " 1: 'Finances and Business',\n",
       " 2: 'Health and Wellbeing',\n",
       " 3: 'Luxury',\n",
       " 4: 'Personal Aesthetics',\n",
       " 5: 'Social Awareness',\n",
       " 6: 'Technology',\n",
       " 7: 'Tourism'}"
      ]
     },
     "execution_count": 3,
     "metadata": {},
     "output_type": "execute_result"
    }
   ],
   "source": [
    "topics = [(theme\n",
    "           .split('.')[0]\n",
    "           .replace('C ', '')\n",
    "           .replace('_', '')\n",
    "           .replace(' 31','')\n",
    "          ) for theme in all_files]\n",
    "topics = dict(zip(range(len(topics)), topics))\n",
    "\n",
    "#All files to be read\n",
    "topics"
   ]
  },
  {
   "cell_type": "code",
   "execution_count": 4,
   "id": "ba194d53",
   "metadata": {},
   "outputs": [
    {
     "name": "stdout",
     "output_type": "stream",
     "text": [
      "which file do you want to update?: \n",
      "{0: 'Entertainment', 1: 'Finances and Business', 2: 'Health and Wellbeing', 3: 'Luxury', 4: 'Personal Aesthetics', 5: 'Social Awareness', 6: 'Technology', 7: 'Tourism'}\n",
      "\n",
      "7\n",
      "\n",
      "\n",
      "The file <<C Tourism_.xlsx>> will be updated.\n"
     ]
    }
   ],
   "source": [
    "update_file = int(input(f\"which file do you want to update?: \\n{topics}\\n\\n\"))\n",
    "print(f\"\\n\\nThe file <<{all_files[update_file]}>> will be updated.\")"
   ]
  },
  {
   "cell_type": "code",
   "execution_count": 5,
   "id": "572d4a63",
   "metadata": {},
   "outputs": [
    {
     "data": {
      "text/plain": [
       "array([False])"
      ]
     },
     "execution_count": 5,
     "metadata": {},
     "output_type": "execute_result"
    }
   ],
   "source": [
    "def read_not_published_data(file):\n",
    "    df = pd.read_excel(f'data/{file}')\n",
    "    not_published = df[df[\"published\"]==0].reset_index(drop=True) #Not published yet\n",
    "    not_published= not_published.rename(columns=str.lower)\n",
    "    return not_published\n",
    "\n",
    "\n",
    "not_published = read_not_published_data( all_files[update_file] )\n",
    "# Self note, make warning for false not being the only value\n",
    "not_published[\"published\"].unique()"
   ]
  },
  {
   "cell_type": "code",
   "execution_count": 6,
   "id": "8f17f1f1",
   "metadata": {},
   "outputs": [],
   "source": [
    "not_published[\"paraphrased title\"] = [\"---\"]*len(not_published)\n",
    "not_published[\"paraphrased description\"] = [\"---\"]*len(not_published)"
   ]
  },
  {
   "cell_type": "code",
   "execution_count": 7,
   "id": "31181233",
   "metadata": {},
   "outputs": [
    {
     "name": "stdout",
     "output_type": "stream",
     "text": [
      "Please, fix title. Afterwards, CLEAN THE TEXT BOX. When finished, press c\n",
      "> \u001b[0;32m/tmp/ipykernel_23328/427745214.py\u001b[0m(49)\u001b[0;36m<module>\u001b[0;34m()\u001b[0m\n",
      "\u001b[0;32m     47 \u001b[0;31m        \u001b[0mprint\u001b[0m\u001b[0;34m(\u001b[0m\u001b[0;34m\"Please, fix title. Afterwards, CLEAN THE TEXT BOX. When finished, press c\"\u001b[0m\u001b[0;34m)\u001b[0m\u001b[0;34m\u001b[0m\u001b[0;34m\u001b[0m\u001b[0m\n",
      "\u001b[0m\u001b[0;32m     48 \u001b[0;31m        \u001b[0mPdb\u001b[0m\u001b[0;34m(\u001b[0m\u001b[0;34m)\u001b[0m\u001b[0;34m.\u001b[0m\u001b[0mset_trace\u001b[0m\u001b[0;34m(\u001b[0m\u001b[0;34m)\u001b[0m\u001b[0;34m\u001b[0m\u001b[0;34m\u001b[0m\u001b[0m\n",
      "\u001b[0m\u001b[0;32m---> 49 \u001b[0;31m        \u001b[0m_control\u001b[0m \u001b[0;34m=\u001b[0m \u001b[0mparaphrased_box\u001b[0m\u001b[0;34m.\u001b[0m\u001b[0mtext\u001b[0m\u001b[0;34m\u001b[0m\u001b[0;34m\u001b[0m\u001b[0m\n",
      "\u001b[0m\u001b[0;32m     50 \u001b[0;31m\u001b[0;34m\u001b[0m\u001b[0m\n",
      "\u001b[0m\u001b[0;32m     51 \u001b[0;31m    \u001b[0mnot_published\u001b[0m\u001b[0;34m.\u001b[0m\u001b[0mloc\u001b[0m\u001b[0;34m[\u001b[0m\u001b[0mi\u001b[0m\u001b[0;34m,\u001b[0m \u001b[0;34m\"paraphrased title\"\u001b[0m\u001b[0;34m]\u001b[0m \u001b[0;34m=\u001b[0m \u001b[0m_control\u001b[0m\u001b[0;34m\u001b[0m\u001b[0;34m\u001b[0m\u001b[0m\n",
      "\u001b[0m\n",
      "ipdb> original_text_title\n",
      "'UNESCO, Airbnb and Mexico City partner to promote the city as a remote working hub'\n",
      "ipdb> n\n",
      "> \u001b[0;32m/tmp/ipykernel_23328/427745214.py\u001b[0m(51)\u001b[0;36m<module>\u001b[0;34m()\u001b[0m\n",
      "\u001b[0;32m     49 \u001b[0;31m        \u001b[0m_control\u001b[0m \u001b[0;34m=\u001b[0m \u001b[0mparaphrased_box\u001b[0m\u001b[0;34m.\u001b[0m\u001b[0mtext\u001b[0m\u001b[0;34m\u001b[0m\u001b[0;34m\u001b[0m\u001b[0m\n",
      "\u001b[0m\u001b[0;32m     50 \u001b[0;31m\u001b[0;34m\u001b[0m\u001b[0m\n",
      "\u001b[0m\u001b[0;32m---> 51 \u001b[0;31m    \u001b[0mnot_published\u001b[0m\u001b[0;34m.\u001b[0m\u001b[0mloc\u001b[0m\u001b[0;34m[\u001b[0m\u001b[0mi\u001b[0m\u001b[0;34m,\u001b[0m \u001b[0;34m\"paraphrased title\"\u001b[0m\u001b[0;34m]\u001b[0m \u001b[0;34m=\u001b[0m \u001b[0m_control\u001b[0m\u001b[0;34m\u001b[0m\u001b[0;34m\u001b[0m\u001b[0m\n",
      "\u001b[0m\u001b[0;32m     52 \u001b[0;31m\u001b[0;34m\u001b[0m\u001b[0m\n",
      "\u001b[0m\u001b[0;32m     53 \u001b[0;31m    (# -- Clean the paraphrased box\n",
      "\u001b[0m\n",
      "ipdb> _control\n",
      "'Mexico City is being promoted by UNESCO and Airbnb as a prime location for telecommuters. '\n",
      "ipdb> c\n"
     ]
    }
   ],
   "source": [
    "def paraphrase_with_tool(not_published):\n",
    "    # Creatting settings for log in \n",
    "    login_url = \"https://xxxxxx.com/login\"\n",
    "    options = webdriver.ChromeOptions()\n",
    "    options.add_argument(\"--start-maximized\")\n",
    "    driver = webdriver.Chrome(options)\n",
    "    driver.implicitly_wait(60)\n",
    "\n",
    "    # Initialization of session\n",
    "    driver.get(login_url)\n",
    "    cookies = driver.find_element(By.XPATH, '//*[@id=\"xxxxxxxxxxxx\"]')\n",
    "    ActionChains(driver).move_to_element(cookies).click(cookies).perform()\n",
    "    usr_box = driver.find_element(\"name\", 'username')\n",
    "    pas_box = driver.find_element(\"name\", 'password')\n",
    "    login_button = driver.find_element(By.XPATH, '//*[@id=\"xxxxxxxxxxx')\n",
    "    ActionChains(driver).move_to_element(usr_box).click(usr_box).send_keys(username).perform()\n",
    "    ActionChains(driver).move_to_element(pas_box).click(pas_box).send_keys(password).perform()\n",
    "    ActionChains(driver).move_to_element(login_button).click(login_button).perform()\n",
    "\n",
    "    # Getting location of important buttons\n",
    "    creative = driver.find_element(By.XPATH, '//*[@id=\"xxxxxxxxxxxxx')\n",
    "    expand = driver.find_element(By.XPATH, '//*[@id=\"xxxxxxxxxxxx')\n",
    "    paraphrased_box  = driver.find_element(By.XPATH, '//*[@id=\"xxxxxxxxxxxx\"]')\n",
    "    text_box = driver.find_element(By.CSS_SELECTOR, \".css-xxxxxxx\")\n",
    "\n",
    "    for i in range(len(not_published)):\n",
    "        # Paraphrasing for case study title\n",
    "        _control = paraphrased_box.text\n",
    "        original_text_title = not_published[\"case study title\"][i] \n",
    "        ActionChains(driver).move_to_element(creative).click(creative).perform()\n",
    "        text_box.send_keys(original_text_title)\n",
    "        # --  To paraphrase\n",
    "        time.sleep(5) # required, otherwise webpage bugs\n",
    "        ActionChains(driver).move_to_element(text_box).click(text_box).perform()\n",
    "        ActionChains(driver).key_down(Keys.CONTROL).send_keys(Keys.ENTER).perform()\n",
    "        ActionChains(driver).move_to_element(paraphrased_box).click(paraphrased_box).perform()\n",
    "        driver.find_element(By.CSS_SELECTOR, '.css-xxxxx') # sanity check: text finished processing\n",
    "        time.sleep(5)\n",
    "        _control = paraphrased_box.text\n",
    "        (# -- Clean search box\n",
    "            ActionChains(driver).move_to_element(text_box).click(text_box)\n",
    "                .key_down(Keys.CONTROL).send_keys('A').key_up(Keys.CONTROL)\n",
    "                .send_keys(Keys.DELETE).perform()\n",
    "        )\n",
    "\n",
    "        if len(_control) == 0:\n",
    "            chime.warning()\n",
    "            print(\"\\n\\n\\n\")\n",
    "            print(\"Please, fix title. Afterwards, CLEAN THE TEXT BOX. When finished, press c\")\n",
    "            Pdb().set_trace()\n",
    "            _control = paraphrased_box.text\n",
    "\n",
    "        not_published.loc[i, \"paraphrased title\"] = _control\n",
    "\n",
    "        (# -- Clean the paraphrased box\n",
    "            ActionChains(driver).move_to_element(paraphrased_box).click(paraphrased_box)\n",
    "                .key_down(Keys.CONTROL).send_keys('A').key_up(Keys.CONTROL)\n",
    "                .send_keys(Keys.DELETE).perform()\n",
    "        )    \n",
    "\n",
    "        # Paraphrasong for case study description\n",
    "        _control = paraphrased_box.text\n",
    "        original_text_description = not_published[\"case study description\"][i] \n",
    "        ActionChains(driver).move_to_element(expand).click(expand).perform()\n",
    "        ActionChains(driver).move_to_element(text_box).click(text_box).perform()\n",
    "        text_box.send_keys(original_text_description)\n",
    "        # --  To paraphrase\n",
    "        time.sleep(5) # required, otherwise webpage bugs\n",
    "        ActionChains(driver).move_to_element(text_box).click(text_box).perform()\n",
    "        ActionChains(driver).key_down(Keys.CONTROL).send_keys(Keys.ENTER).perform()\n",
    "        ActionChains(driver).move_to_element(paraphrased_box).click(paraphrased_box).perform()\n",
    "        driver.find_element(By.CSS_SELECTOR, '.css-xxxxxxx') # sanity check: text finished processing\n",
    "        time.sleep(7)\n",
    "        _control = paraphrased_box.text\n",
    "        (# -- Clean search box\n",
    "            ActionChains(driver).move_to_element(text_box).click(text_box)\n",
    "                .key_down(Keys.CONTROL).send_keys('A').key_up(Keys.CONTROL)\n",
    "                .send_keys(Keys.DELETE).perform()\n",
    "        )\n",
    "\n",
    "        if len(_control) == 0:\n",
    "            chime.warning()\n",
    "            print(\"\\n\\n\\n\")\n",
    "            print(\"Please, fix description. Afterwards, CLEAN THE TEXT BOX. When finished, press c\")\n",
    "            Pdb().set_trace()\n",
    "            _control = paraphrased_box.text\n",
    "\n",
    "        not_published.loc[i, \"paraphrased description\"] = _control\n",
    "\n",
    "        (# -- Clean the paraphrased box\n",
    "            ActionChains(driver).move_to_element(paraphrased_box).click(paraphrased_box)\n",
    "                .key_down(Keys.CONTROL).send_keys('A').key_up(Keys.CONTROL)\n",
    "                .send_keys(Keys.DELETE).perform()\n",
    "        )\n",
    "        return"
   ]
  },
  {
   "cell_type": "code",
   "execution_count": null,
   "id": "0ce90def",
   "metadata": {},
   "outputs": [],
   "source": []
  }
 ],
 "metadata": {
  "kernelspec": {
   "display_name": "Python 3 (ipykernel)",
   "language": "python",
   "name": "python3"
  },
  "language_info": {
   "codemirror_mode": {
    "name": "ipython",
    "version": 3
   },
   "file_extension": ".py",
   "mimetype": "text/x-python",
   "name": "python",
   "nbconvert_exporter": "python",
   "pygments_lexer": "ipython3",
   "version": "3.10.12"
  }
 },
 "nbformat": 4,
 "nbformat_minor": 5
}
