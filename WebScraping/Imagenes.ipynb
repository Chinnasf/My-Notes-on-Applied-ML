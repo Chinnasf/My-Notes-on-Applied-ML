{
 "cells": [
  {
   "cell_type": "markdown",
   "id": "dc1e19a7",
   "metadata": {},
   "source": [
    "## Web Scrapping for Images\n",
    "\n",
    "Demo code for automating the download of specific images giving a webpage"
   ]
  },
  {
   "cell_type": "code",
   "execution_count": 1,
   "id": "b9739148",
   "metadata": {},
   "outputs": [],
   "source": [
    "import pandas as pd\n",
    "import numpy as np\n",
    "import os\n",
    "import sys\n",
    "import requests\n",
    "import shutil\n",
    "import chime\n",
    "import time\n",
    "\n",
    "from selenium import webdriver\n",
    "from selenium.webdriver.common.keys import Keys\n",
    "from selenium.webdriver.common.action_chains import ActionChains\n",
    "from selenium.webdriver.common.by import By\n",
    "from selenium.webdriver.common.keys import Keys\n",
    "from selenium.webdriver.support.wait import WebDriverWait\n",
    "from datetime import date, datetime\n",
    "from IPython.core.debugger import Pdb #Pdb().set_trace()\n",
    "\n",
    "\n",
    "# Define your login credentials\n",
    "username = \"xxxxxxxxxx@_____.com\"\n",
    "password = \"················\""
   ]
  },
  {
   "cell_type": "code",
   "execution_count": 2,
   "id": "77722aa4",
   "metadata": {},
   "outputs": [
    {
     "data": {
      "text/plain": [
       "{0: 'Technology',\n",
       " 1: 'Social Awarenessupdated02112023-180454',\n",
       " 2: 'Social Awareness',\n",
       " 3: 'Finances and Businessupdated02112023-181812',\n",
       " 4: 'Finances and Business',\n",
       " 5: 'Technologyupdated02112023-170543',\n",
       " 6: 'Luxury',\n",
       " 7: 'Entertainment',\n",
       " 8: 'Health and Wellbeing',\n",
       " 9: 'Personal Aesthetics',\n",
       " 10: 'Luxuryupdated02112023-185308',\n",
       " 11: 'Tourism'}"
      ]
     },
     "execution_count": 2,
     "metadata": {},
     "output_type": "execute_result"
    }
   ],
   "source": [
    "all_files = os.listdir('data/')\n",
    "topics = [(theme\n",
    "           .split('.')[0]\n",
    "           .replace('C ', '')\n",
    "           .replace('_', '')\n",
    "           .replace(' 31','')\n",
    "          ) for theme in all_files]\n",
    "topics = dict(zip(range(len(topics)), topics))\n",
    "\n",
    "#All files to be read\n",
    "topics"
   ]
  },
  {
   "cell_type": "code",
   "execution_count": 3,
   "id": "22e5f721",
   "metadata": {},
   "outputs": [
    {
     "name": "stdout",
     "output_type": "stream",
     "text": [
      "which file do you want to update?: \n",
      "{0: 'Technology', 1: 'Social Awarenessupdated02112023-180454', 2: 'Social Awareness', 3: 'Finances and Businessupdated02112023-181812', 4: 'Finances and Business', 5: 'Technologyupdated02112023-170543', 6: 'Luxury', 7: 'Entertainment', 8: 'Health and Wellbeing', 9: 'Personal Aesthetics', 10: 'Luxuryupdated02112023-185308', 11: 'Tourism'}\n",
      "\n",
      "11\n",
      "\n",
      "\n",
      "The file <<C Tourism_.xlsx>> will be updated.\n"
     ]
    }
   ],
   "source": [
    "update_file = int(input(f\"which file do you want to update?: \\n{topics}\\n\\n\"))\n",
    "print(f\"\\n\\nThe file <<{all_files[update_file]}>> will be updated.\")"
   ]
  },
  {
   "cell_type": "markdown",
   "id": "decfa210",
   "metadata": {},
   "source": [
    "## Code to create all folders per topic\n",
    "\n",
    "```Python\n",
    "for topic in topics.values():\n",
    "    path = f'Images/{topic}'\n",
    "    try: \n",
    "        os.mkdir(path)\n",
    "    except:\n",
    "        pass\n",
    "```"
   ]
  },
  {
   "cell_type": "code",
   "execution_count": 4,
   "id": "6c5e7b18",
   "metadata": {},
   "outputs": [],
   "source": [
    "def read_not_published_data(file):\n",
    "    df = pd.read_excel(f'data/{file}')\n",
    "    not_published = df[df[\"published\"]==0].reset_index(drop=True) #Not published yet\n",
    "    return not_published\n",
    "\n",
    "\n",
    "not_published = read_not_published_data( all_files[update_file] )"
   ]
  },
  {
   "cell_type": "code",
   "execution_count": 5,
   "id": "9e8b7c04",
   "metadata": {},
   "outputs": [
    {
     "data": {
      "text/plain": [
       "array([False])"
      ]
     },
     "execution_count": 5,
     "metadata": {},
     "output_type": "execute_result"
    }
   ],
   "source": [
    "# Self note, make warning for false not being the only value\n",
    "not_published[\"published\"].unique()"
   ]
  },
  {
   "cell_type": "code",
   "execution_count": 7,
   "id": "69002081",
   "metadata": {},
   "outputs": [],
   "source": [
    "def get_img_url_from_Amplify(not_published):  \n",
    "    not_published_update = not_published.copy()\n",
    "    not_published_update[\"image_url\"] = [\"\"]*len(not_published_update)\n",
    "    login_url = \"https://xxxxxxxx.com/login\"\n",
    "    # Create a Chrome web driver\n",
    "    driver = webdriver.Chrome()\n",
    "    driver.implicitly_wait(60)\n",
    "    # Open the login page\n",
    "    driver.get(login_url)\n",
    "    usr_box = driver.find_element(\"name\", 'email')\n",
    "    pas_box = driver.find_element(\"name\", 'password')\n",
    "    login_buttom = driver.find_element(By.CSS_SELECTOR, '.css-xxxxx')\n",
    "    # Passing licence and getting to \"Innovation\"\n",
    "    ActionChains(driver).move_to_element(usr_box).click(usr_box).send_keys(username).perform()\n",
    "    ActionChains(driver).move_to_element(pas_box).click(pas_box).send_keys(password).perform()\n",
    "    ActionChains(driver).move_to_element(login_buttom).click(login_buttom).perform()\n",
    "    time.sleep(3) # Getting rid of tutorial placeholder\n",
    "    ActionChains(driver).send_keys(Keys.ESCAPE).perform()\n",
    "    innov_buttom = driver.find_element(\n",
    "        By.XPATH, '//a[contains(@class, \"css-xxxxxx\") and contains(text(), \"xxxxxx\")]'\n",
    "    )\n",
    "    ActionChains(driver).move_to_element(innov_buttom).click(innov_buttom).perform()\n",
    "    for i, case_study_title in enumerate(not_published[\"Case Study Title\"]):\n",
    "        seach_box = driver.find_element(By.CSS_SELECTOR, '.css-xxxxxx')\n",
    "        (# Clean search box\n",
    "        ActionChains(driver).move_to_element(seach_box).click(seach_box)\n",
    "            .key_down(Keys.CONTROL).send_keys('A').key_up(Keys.CONTROL)\n",
    "            .send_keys(Keys.DELETE).perform()\n",
    "        )\n",
    "        (# Searching for specific case study in webpage\n",
    "            ActionChains(driver).move_to_element(seach_box)\n",
    "         .click(seach_box).send_keys(case_study_title).perform()\n",
    "        )\n",
    "        time.sleep(3)\n",
    "        search_button = driver.find_element(By.CSS_SELECTOR, '.css-xxxxxx')\n",
    "        ActionChains(driver).move_to_element(search_button).click(search_button).perform()\n",
    "        try: # Created this block because there is high chances of failing in this stage\n",
    "            time.sleep(3) \n",
    "            _element = driver.find_element(\n",
    "                By.XPATH,'//img[@alt=\"image cover\"]'\n",
    "            )\n",
    "        except:\n",
    "            chime.warning()\n",
    "            print('Send \"c\" when issue is fixed')\n",
    "            Pdb().set_trace()\n",
    "            _element = driver.find_element(\n",
    "                By.XPATH,'//img[@alt=\"image cover\"]'\n",
    "            )\n",
    "        ActionChains(driver).move_to_element(_element).click(_element).perform()\n",
    "        time.sleep(3)        \n",
    "        not_published_update.loc[i, \"image_url\"] = driver.find_element(\n",
    "            By.XPATH,'//img[@alt=\"img cover\"]'\n",
    "        ).get_attribute('src')\n",
    "        back_button = driver.find_element(By.CSS_SELECTOR, '.css-xxxxxx')\n",
    "        ActionChains(driver).move_to_element(back_button).click(back_button).perform()\n",
    "    return not_published_update"
   ]
  },
  {
   "cell_type": "code",
   "execution_count": 8,
   "id": "f01f0373",
   "metadata": {},
   "outputs": [],
   "source": [
    "not_published_update = get_img_url_from_Amplify(not_published)\n",
    "# For 116 elements: 16:15 -- 16:58"
   ]
  },
  {
   "cell_type": "code",
   "execution_count": 9,
   "id": "f8564bb8",
   "metadata": {},
   "outputs": [],
   "source": [
    "not_published_update.to_csv(\n",
    "    \"data/\" + \n",
    "    f\"{topics[update_file]}_updated_{datetime.now().strftime('%d%m%Y-%H%M%S')}\" +\n",
    "    \".csv\",\n",
    "    index=False\n",
    ")"
   ]
  },
  {
   "cell_type": "code",
   "execution_count": 10,
   "id": "a225e1df",
   "metadata": {},
   "outputs": [],
   "source": [
    "def save_images_from_updated_file(not_published_update):\n",
    "    file = not_published_update.copy()\n",
    "    path = f'Images/{topics[update_file]}'\n",
    "    for i, case_study_title in enumerate(file[\"Case Study Title\"]):\n",
    "        image_url = file[\"image_url\"][i]\n",
    "        img_filename = f\"{case_study_title.replace(' ', '_')[:25]}.{image_url.split('.')[-1]}\"\n",
    "        img_data = requests.get(image_url).content\n",
    "        with open(path+\"/\"+img_filename, 'wb') as handler:\n",
    "            handler.write(img_data)"
   ]
  },
  {
   "cell_type": "code",
   "execution_count": 11,
   "id": "4c51dfe9",
   "metadata": {},
   "outputs": [],
   "source": [
    "save_images_from_updated_file(not_published_update)"
   ]
  },
  {
   "cell_type": "code",
   "execution_count": 12,
   "id": "190317fb",
   "metadata": {},
   "outputs": [],
   "source": [
    "chime.success()"
   ]
  },
  {
   "cell_type": "code",
   "execution_count": null,
   "id": "42b97a44",
   "metadata": {},
   "outputs": [],
   "source": []
  },
  {
   "cell_type": "code",
   "execution_count": null,
   "id": "88b05b1f",
   "metadata": {},
   "outputs": [],
   "source": []
  }
 ],
 "metadata": {
  "kernelspec": {
   "display_name": "Python 3 (ipykernel)",
   "language": "python",
   "name": "python3"
  },
  "language_info": {
   "codemirror_mode": {
    "name": "ipython",
    "version": 3
   },
   "file_extension": ".py",
   "mimetype": "text/x-python",
   "name": "python",
   "nbconvert_exporter": "python",
   "pygments_lexer": "ipython3",
   "version": "3.10.12"
  }
 },
 "nbformat": 4,
 "nbformat_minor": 5
}
