{
 "cells": [
  {
   "cell_type": "markdown",
   "id": "f094ade6",
   "metadata": {},
   "source": [
    "## Web Scraping for automating the download of specific images given a file"
   ]
  },
  {
   "cell_type": "code",
   "execution_count": 1,
   "id": "b9739148",
   "metadata": {},
   "outputs": [],
   "source": [
    "import pandas as pd\n",
    "import os\n",
    "import sys\n",
    "import requests\n",
    "import shutil\n",
    "\n",
    "from selenium import webdriver\n",
    "from selenium.webdriver.common.keys import Keys\n",
    "from selenium.webdriver.common.action_chains import ActionChains\n",
    "from selenium.webdriver.common.by import By\n",
    "from selenium.webdriver.common.keys import Keys\n",
    "\n",
    "# time for pausing between navigation\n",
    "import time\n",
    "\n",
    "# Define your login credentials\n",
    "username = \"xxxxxx@xxxxxx.com\"\n",
    "password = \"xxxxxxxxxxxx\""
   ]
  },
  {
   "cell_type": "code",
   "execution_count": 35,
   "id": "77722aa4",
   "metadata": {},
   "outputs": [
    {
     "data": {
      "text/plain": [
       "{0: 'Technology',\n",
       " 1: 'Social Awareness',\n",
       " 2: 'Finances and Business',\n",
       " 3: 'Luxury',\n",
       " 4: 'Entertainment',\n",
       " 5: 'Health and Wellbeing',\n",
       " 6: 'Personal Aesthetics',\n",
       " 7: 'Tourism'}"
      ]
     },
     "execution_count": 35,
     "metadata": {},
     "output_type": "execute_result"
    }
   ],
   "source": [
    "all_files = os.listdir('data/')\n",
    "topics = [(theme # Cleaning the file name\n",
    "           .split('.')[0]\n",
    "           .replace('C ', '')\n",
    "           .replace('_', '')\n",
    "           .replace(' 31','')\n",
    "          ) for theme in all_files]\n",
    "topics = dict(zip(range(len(topics)), topics))\n",
    "\n",
    "#All files to be read\n",
    "topics"
   ]
  },
  {
   "cell_type": "code",
   "execution_count": 44,
   "id": "22e5f721",
   "metadata": {},
   "outputs": [
    {
     "name": "stdout",
     "output_type": "stream",
     "text": [
      "which file do you want to update?: \n",
      "{0: 'Technology', 1: 'Social Awareness', 2: 'Finances and Business', 3: 'Luxury', 4: 'Entertainment', 5: 'Health and Wellbeing', 6: 'Personal Aesthetics', 7: 'Tourism'}\n",
      "\n",
      "5\n",
      "\n",
      "\n",
      "The file <<C Health and Wellbeing_.xlsx>> will be updated.\n"
     ]
    }
   ],
   "source": [
    "update_file = int(input(f\"which file do you want to update?: \\n{topics}\\n\\n\"))\n",
    "print(f\"\\n\\nThe file <<{all_files[update_file]}>> will be updated.\")"
   ]
  },
  {
   "cell_type": "markdown",
   "id": "decfa210",
   "metadata": {},
   "source": [
    "## Code to create all folders per topic\n",
    "\n",
    "```Python\n",
    "for topic in topics.values():\n",
    "    path = f'Images/{topic}'\n",
    "    try: \n",
    "        os.mkdir(path)\n",
    "    except:\n",
    "        pass\n",
    "```"
   ]
  },
  {
   "cell_type": "code",
   "execution_count": 28,
   "id": "6c5e7b18",
   "metadata": {},
   "outputs": [],
   "source": [
    "def read_not_published_data(file):\n",
    "    df = pd.read_excel(f'data/{file}')\n",
    "    not_published = df[df[\"published\"]==0].reset_index(drop=True) #Not published yet\n",
    "    return not_published"
   ]
  },
  {
   "cell_type": "code",
   "execution_count": 6,
   "id": "69002081",
   "metadata": {},
   "outputs": [],
   "source": [
    "def get_img_url_from_Amplify(case_study_title):  \n",
    "    login_url = \"https://xxxxxxxx.xxxxxxxxxx.com/login\"\n",
    "    # Create a Chrome web driver\n",
    "    driver = webdriver.Chrome()\n",
    "    # Open the login page\n",
    "    driver.get(login_url)\n",
    "    driver.implicitly_wait(10)\n",
    "    usr_box = driver.find_element(\"name\", 'email')\n",
    "    pas_box = driver.find_element(\"name\", 'password')\n",
    "    login_buttom = driver.find_element(By.CSS_SELECTOR, '.css-dxxxtv')\n",
    "    # Passing licence and getting to \"Innovation\"\n",
    "    ActionChains(driver).move_to_element(usr_box).click(usr_box).send_keys(username).perform()\n",
    "    ActionChains(driver).move_to_element(pas_box).click(pas_box).send_keys(password).perform()\n",
    "    ActionChains(driver).move_to_element(login_buttom).click(login_buttom).perform()\n",
    "    time.sleep(3) # Getting rid of tutorial placeholder\n",
    "    ActionChains(driver).send_keys(Keys.ESCAPE).perform()\n",
    "    innov_buttom = driver.find_element(By.XPATH, \n",
    "                                       '//a[contains(@class, \"css-xxxxx\") and contains(text(), \"Innovations\")]'\n",
    "                                      )\n",
    "    ActionChains(driver).move_to_element(innov_buttom).click(innov_buttom).perform()\n",
    "    seach_box = driver.find_element(By.CSS_SELECTOR, '.css-fxlxxh')\n",
    "    (# Searching for specific case study in the webpage\n",
    "        ActionChains(driver).move_to_element(seach_box)\n",
    "     .click(seach_box).send_keys(case_study_title).perform()\n",
    "    )\n",
    "    search_button = driver.find_element(By.CSS_SELECTOR, '.css-xxrhdxxq')\n",
    "    ActionChains(driver).move_to_element(search_button).click(search_button).perform()\n",
    "    _element = driver.find_element(By.XPATH,'//img[@alt=\"image cover\"]')\n",
    "    driver.implicitly_wait(10)\n",
    "    ActionChains(driver).move_to_element(_element).click(_element).perform()\n",
    "    time.sleep(2)\n",
    "    image_url = driver.find_element(By.XPATH,'//img[@alt=\"innovation cover\"]').get_attribute('src')\n",
    "return image_url"
   ]
  },
  {
   "cell_type": "markdown",
   "id": "baff2767",
   "metadata": {},
   "source": [
    "## Save Image"
   ]
  },
  {
   "cell_type": "code",
   "execution_count": 7,
   "id": "a225e1df",
   "metadata": {},
   "outputs": [],
   "source": [
    "img_filename = f\"{case_study_title.replace(' ', '_')[:25]}.{image_url.split('.')[-1]}\"\n",
    "\n",
    "def save_image_from_url(path, img_filename):\n",
    "img_data = requests.get(image_url).content\n",
    "with open(path+\"/\"+img_filename, 'wb') as handler:\n",
    "    handler.write(img_data)"
   ]
  },
  {
   "cell_type": "code",
   "execution_count": null,
   "id": "4c51dfe9",
   "metadata": {},
   "outputs": [],
   "source": []
  },
  {
   "cell_type": "code",
   "execution_count": null,
   "id": "190317fb",
   "metadata": {},
   "outputs": [],
   "source": []
  }
 ],
 "metadata": {
  "kernelspec": {
   "display_name": "Python 3 (ipykernel)",
   "language": "python",
   "name": "python3"
  },
  "language_info": {
   "codemirror_mode": {
    "name": "ipython",
    "version": 3
   },
   "file_extension": ".py",
   "mimetype": "text/x-python",
   "name": "python",
   "nbconvert_exporter": "python",
   "pygments_lexer": "ipython3",
   "version": "3.10.12"
  }
 },
 "nbformat": 4,
 "nbformat_minor": 5
}
