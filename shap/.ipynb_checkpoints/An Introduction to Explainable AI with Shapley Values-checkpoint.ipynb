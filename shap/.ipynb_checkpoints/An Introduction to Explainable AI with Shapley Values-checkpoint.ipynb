{
 "cells": [
  {
   "cell_type": "markdown",
   "id": "ab549431",
   "metadata": {},
   "source": [
    "## [SHAP documentation](https://shap.readthedocs.io/en/latest/index.html)\n",
    "\n",
    "This notebook is for my understanding on this topic. I am just following the introduction presented in [this notebook](https://shap.readthedocs.io/en/latest/example_notebooks/overviews/An%20introduction%20to%20explainable%20AI%20with%20Shapley%20values.html)."
   ]
  },
  {
   "cell_type": "code",
   "execution_count": 1,
   "id": "25eafeac",
   "metadata": {},
   "outputs": [],
   "source": [
    "# TASK: predict the natural log of the median home price in a housing dataset."
   ]
  },
  {
   "cell_type": "code",
   "execution_count": 14,
   "id": "c5b3d7a9",
   "metadata": {},
   "outputs": [],
   "source": [
    "import sklearn\n",
    "import shap\n",
    "import matplotlib.pyplot as plt"
   ]
  },
  {
   "cell_type": "code",
   "execution_count": 6,
   "id": "67bbabe6",
   "metadata": {},
   "outputs": [
    {
     "data": {
      "text/plain": [
       "'0.44.1'"
      ]
     },
     "execution_count": 6,
     "metadata": {},
     "output_type": "execute_result"
    }
   ],
   "source": [
    "shap.__version__"
   ]
  },
  {
   "cell_type": "code",
   "execution_count": 3,
   "id": "91fd1de6",
   "metadata": {},
   "outputs": [],
   "source": [
    "# a classic housing price dataset\n",
    "X, y = shap.datasets.california(n_points=1000)\n",
    "\n",
    "# Performs sampling without replacement of the input data.\n",
    "X100 = shap.utils.sample(X, 100)  # 100 instances for use as the background distribution"
   ]
  },
  {
   "cell_type": "code",
   "execution_count": 4,
   "id": "ca2aaee3",
   "metadata": {},
   "outputs": [
    {
     "data": {
      "text/html": [
       "<div>\n",
       "<style scoped>\n",
       "    .dataframe tbody tr th:only-of-type {\n",
       "        vertical-align: middle;\n",
       "    }\n",
       "\n",
       "    .dataframe tbody tr th {\n",
       "        vertical-align: top;\n",
       "    }\n",
       "\n",
       "    .dataframe thead th {\n",
       "        text-align: right;\n",
       "    }\n",
       "</style>\n",
       "<table border=\"1\" class=\"dataframe\">\n",
       "  <thead>\n",
       "    <tr style=\"text-align: right;\">\n",
       "      <th></th>\n",
       "      <th>MedInc</th>\n",
       "      <th>HouseAge</th>\n",
       "      <th>AveRooms</th>\n",
       "      <th>AveBedrms</th>\n",
       "      <th>Population</th>\n",
       "      <th>AveOccup</th>\n",
       "      <th>Latitude</th>\n",
       "      <th>Longitude</th>\n",
       "    </tr>\n",
       "  </thead>\n",
       "  <tbody>\n",
       "    <tr>\n",
       "      <th>12953</th>\n",
       "      <td>3.7813</td>\n",
       "      <td>15.0</td>\n",
       "      <td>5.620058</td>\n",
       "      <td>1.013500</td>\n",
       "      <td>2868.0</td>\n",
       "      <td>2.765670</td>\n",
       "      <td>38.70</td>\n",
       "      <td>-121.28</td>\n",
       "    </tr>\n",
       "    <tr>\n",
       "      <th>18537</th>\n",
       "      <td>4.3000</td>\n",
       "      <td>20.0</td>\n",
       "      <td>6.270677</td>\n",
       "      <td>1.137845</td>\n",
       "      <td>981.0</td>\n",
       "      <td>2.458647</td>\n",
       "      <td>36.98</td>\n",
       "      <td>-122.00</td>\n",
       "    </tr>\n",
       "    <tr>\n",
       "      <th>13337</th>\n",
       "      <td>3.9107</td>\n",
       "      <td>27.0</td>\n",
       "      <td>5.572816</td>\n",
       "      <td>1.000000</td>\n",
       "      <td>321.0</td>\n",
       "      <td>3.116505</td>\n",
       "      <td>34.04</td>\n",
       "      <td>-117.68</td>\n",
       "    </tr>\n",
       "    <tr>\n",
       "      <th>12651</th>\n",
       "      <td>1.6521</td>\n",
       "      <td>36.0</td>\n",
       "      <td>4.068477</td>\n",
       "      <td>1.121606</td>\n",
       "      <td>2460.0</td>\n",
       "      <td>2.904368</td>\n",
       "      <td>38.52</td>\n",
       "      <td>-121.44</td>\n",
       "    </tr>\n",
       "    <tr>\n",
       "      <th>19986</th>\n",
       "      <td>2.3152</td>\n",
       "      <td>25.0</td>\n",
       "      <td>5.412844</td>\n",
       "      <td>1.055046</td>\n",
       "      <td>1424.0</td>\n",
       "      <td>3.266055</td>\n",
       "      <td>36.21</td>\n",
       "      <td>-119.32</td>\n",
       "    </tr>\n",
       "    <tr>\n",
       "      <th>...</th>\n",
       "      <td>...</td>\n",
       "      <td>...</td>\n",
       "      <td>...</td>\n",
       "      <td>...</td>\n",
       "      <td>...</td>\n",
       "      <td>...</td>\n",
       "      <td>...</td>\n",
       "      <td>...</td>\n",
       "    </tr>\n",
       "    <tr>\n",
       "      <th>6232</th>\n",
       "      <td>3.3523</td>\n",
       "      <td>25.0</td>\n",
       "      <td>4.997245</td>\n",
       "      <td>1.112948</td>\n",
       "      <td>1187.0</td>\n",
       "      <td>3.269972</td>\n",
       "      <td>34.07</td>\n",
       "      <td>-117.94</td>\n",
       "    </tr>\n",
       "    <tr>\n",
       "      <th>2782</th>\n",
       "      <td>1.2049</td>\n",
       "      <td>17.0</td>\n",
       "      <td>4.337500</td>\n",
       "      <td>1.206250</td>\n",
       "      <td>775.0</td>\n",
       "      <td>2.421875</td>\n",
       "      <td>32.74</td>\n",
       "      <td>-114.66</td>\n",
       "    </tr>\n",
       "    <tr>\n",
       "      <th>12601</th>\n",
       "      <td>1.9837</td>\n",
       "      <td>37.0</td>\n",
       "      <td>4.786517</td>\n",
       "      <td>1.014045</td>\n",
       "      <td>902.0</td>\n",
       "      <td>2.533708</td>\n",
       "      <td>38.53</td>\n",
       "      <td>-121.48</td>\n",
       "    </tr>\n",
       "    <tr>\n",
       "      <th>2198</th>\n",
       "      <td>7.5000</td>\n",
       "      <td>8.0</td>\n",
       "      <td>6.564885</td>\n",
       "      <td>0.946565</td>\n",
       "      <td>1111.0</td>\n",
       "      <td>2.826972</td>\n",
       "      <td>36.85</td>\n",
       "      <td>-119.88</td>\n",
       "    </tr>\n",
       "    <tr>\n",
       "      <th>20133</th>\n",
       "      <td>3.2024</td>\n",
       "      <td>30.0</td>\n",
       "      <td>4.882253</td>\n",
       "      <td>1.046075</td>\n",
       "      <td>2065.0</td>\n",
       "      <td>3.523891</td>\n",
       "      <td>34.40</td>\n",
       "      <td>-118.91</td>\n",
       "    </tr>\n",
       "  </tbody>\n",
       "</table>\n",
       "<p>100 rows × 8 columns</p>\n",
       "</div>"
      ],
      "text/plain": [
       "       MedInc  HouseAge  AveRooms  AveBedrms  Population  AveOccup  Latitude  \\\n",
       "12953  3.7813      15.0  5.620058   1.013500      2868.0  2.765670     38.70   \n",
       "18537  4.3000      20.0  6.270677   1.137845       981.0  2.458647     36.98   \n",
       "13337  3.9107      27.0  5.572816   1.000000       321.0  3.116505     34.04   \n",
       "12651  1.6521      36.0  4.068477   1.121606      2460.0  2.904368     38.52   \n",
       "19986  2.3152      25.0  5.412844   1.055046      1424.0  3.266055     36.21   \n",
       "...       ...       ...       ...        ...         ...       ...       ...   \n",
       "6232   3.3523      25.0  4.997245   1.112948      1187.0  3.269972     34.07   \n",
       "2782   1.2049      17.0  4.337500   1.206250       775.0  2.421875     32.74   \n",
       "12601  1.9837      37.0  4.786517   1.014045       902.0  2.533708     38.53   \n",
       "2198   7.5000       8.0  6.564885   0.946565      1111.0  2.826972     36.85   \n",
       "20133  3.2024      30.0  4.882253   1.046075      2065.0  3.523891     34.40   \n",
       "\n",
       "       Longitude  \n",
       "12953    -121.28  \n",
       "18537    -122.00  \n",
       "13337    -117.68  \n",
       "12651    -121.44  \n",
       "19986    -119.32  \n",
       "...          ...  \n",
       "6232     -117.94  \n",
       "2782     -114.66  \n",
       "12601    -121.48  \n",
       "2198     -119.88  \n",
       "20133    -118.91  \n",
       "\n",
       "[100 rows x 8 columns]"
      ]
     },
     "execution_count": 4,
     "metadata": {},
     "output_type": "execute_result"
    }
   ],
   "source": [
    "X100"
   ]
  },
  {
   "cell_type": "code",
   "execution_count": 7,
   "id": "f46ff120",
   "metadata": {},
   "outputs": [
    {
     "data": {
      "text/html": [
       "<style>#sk-container-id-1 {color: black;}#sk-container-id-1 pre{padding: 0;}#sk-container-id-1 div.sk-toggleable {background-color: white;}#sk-container-id-1 label.sk-toggleable__label {cursor: pointer;display: block;width: 100%;margin-bottom: 0;padding: 0.3em;box-sizing: border-box;text-align: center;}#sk-container-id-1 label.sk-toggleable__label-arrow:before {content: \"▸\";float: left;margin-right: 0.25em;color: #696969;}#sk-container-id-1 label.sk-toggleable__label-arrow:hover:before {color: black;}#sk-container-id-1 div.sk-estimator:hover label.sk-toggleable__label-arrow:before {color: black;}#sk-container-id-1 div.sk-toggleable__content {max-height: 0;max-width: 0;overflow: hidden;text-align: left;background-color: #f0f8ff;}#sk-container-id-1 div.sk-toggleable__content pre {margin: 0.2em;color: black;border-radius: 0.25em;background-color: #f0f8ff;}#sk-container-id-1 input.sk-toggleable__control:checked~div.sk-toggleable__content {max-height: 200px;max-width: 100%;overflow: auto;}#sk-container-id-1 input.sk-toggleable__control:checked~label.sk-toggleable__label-arrow:before {content: \"▾\";}#sk-container-id-1 div.sk-estimator input.sk-toggleable__control:checked~label.sk-toggleable__label {background-color: #d4ebff;}#sk-container-id-1 div.sk-label input.sk-toggleable__control:checked~label.sk-toggleable__label {background-color: #d4ebff;}#sk-container-id-1 input.sk-hidden--visually {border: 0;clip: rect(1px 1px 1px 1px);clip: rect(1px, 1px, 1px, 1px);height: 1px;margin: -1px;overflow: hidden;padding: 0;position: absolute;width: 1px;}#sk-container-id-1 div.sk-estimator {font-family: monospace;background-color: #f0f8ff;border: 1px dotted black;border-radius: 0.25em;box-sizing: border-box;margin-bottom: 0.5em;}#sk-container-id-1 div.sk-estimator:hover {background-color: #d4ebff;}#sk-container-id-1 div.sk-parallel-item::after {content: \"\";width: 100%;border-bottom: 1px solid gray;flex-grow: 1;}#sk-container-id-1 div.sk-label:hover label.sk-toggleable__label {background-color: #d4ebff;}#sk-container-id-1 div.sk-serial::before {content: \"\";position: absolute;border-left: 1px solid gray;box-sizing: border-box;top: 0;bottom: 0;left: 50%;z-index: 0;}#sk-container-id-1 div.sk-serial {display: flex;flex-direction: column;align-items: center;background-color: white;padding-right: 0.2em;padding-left: 0.2em;position: relative;}#sk-container-id-1 div.sk-item {position: relative;z-index: 1;}#sk-container-id-1 div.sk-parallel {display: flex;align-items: stretch;justify-content: center;background-color: white;position: relative;}#sk-container-id-1 div.sk-item::before, #sk-container-id-1 div.sk-parallel-item::before {content: \"\";position: absolute;border-left: 1px solid gray;box-sizing: border-box;top: 0;bottom: 0;left: 50%;z-index: -1;}#sk-container-id-1 div.sk-parallel-item {display: flex;flex-direction: column;z-index: 1;position: relative;background-color: white;}#sk-container-id-1 div.sk-parallel-item:first-child::after {align-self: flex-end;width: 50%;}#sk-container-id-1 div.sk-parallel-item:last-child::after {align-self: flex-start;width: 50%;}#sk-container-id-1 div.sk-parallel-item:only-child::after {width: 0;}#sk-container-id-1 div.sk-dashed-wrapped {border: 1px dashed gray;margin: 0 0.4em 0.5em 0.4em;box-sizing: border-box;padding-bottom: 0.4em;background-color: white;}#sk-container-id-1 div.sk-label label {font-family: monospace;font-weight: bold;display: inline-block;line-height: 1.2em;}#sk-container-id-1 div.sk-label-container {text-align: center;}#sk-container-id-1 div.sk-container {/* jupyter's `normalize.less` sets `[hidden] { display: none; }` but bootstrap.min.css set `[hidden] { display: none !important; }` so we also need the `!important` here to be able to override the default hidden behavior on the sphinx rendered scikit-learn.org. See: https://github.com/scikit-learn/scikit-learn/issues/21755 */display: inline-block !important;position: relative;}#sk-container-id-1 div.sk-text-repr-fallback {display: none;}</style><div id=\"sk-container-id-1\" class=\"sk-top-container\"><div class=\"sk-text-repr-fallback\"><pre>LinearRegression()</pre><b>In a Jupyter environment, please rerun this cell to show the HTML representation or trust the notebook. <br />On GitHub, the HTML representation is unable to render, please try loading this page with nbviewer.org.</b></div><div class=\"sk-container\" hidden><div class=\"sk-item\"><div class=\"sk-estimator sk-toggleable\"><input class=\"sk-toggleable__control sk-hidden--visually\" id=\"sk-estimator-id-1\" type=\"checkbox\" checked><label for=\"sk-estimator-id-1\" class=\"sk-toggleable__label sk-toggleable__label-arrow\">LinearRegression</label><div class=\"sk-toggleable__content\"><pre>LinearRegression()</pre></div></div></div></div></div>"
      ],
      "text/plain": [
       "LinearRegression()"
      ]
     },
     "execution_count": 7,
     "metadata": {},
     "output_type": "execute_result"
    }
   ],
   "source": [
    "# a simple linear model\n",
    "model = sklearn.linear_model.LinearRegression()\n",
    "model.fit(X, y)"
   ]
  },
  {
   "cell_type": "code",
   "execution_count": 8,
   "id": "8eb54f46",
   "metadata": {},
   "outputs": [
    {
     "name": "stdout",
     "output_type": "stream",
     "text": [
      "Model coefficients:\n",
      "\n",
      "MedInc = 0.42563\n",
      "HouseAge = 0.01033\n",
      "AveRooms = -0.1161\n",
      "AveBedrms = 0.66385\n",
      "Population = 3e-05\n",
      "AveOccup = -0.26096\n",
      "Latitude = -0.46734\n",
      "Longitude = -0.46272\n"
     ]
    }
   ],
   "source": [
    "# Results | remember, the magnitude of a coefficient is not necessarily a \n",
    "# good measure of a feature’s importance in a linear model.\n",
    "print(\"Model coefficients:\\n\")\n",
    "for i in range(X.shape[1]):\n",
    "    print(X.columns[i], \"=\", model.coef_[i].round(5))"
   ]
  },
  {
   "cell_type": "code",
   "execution_count": 10,
   "id": "8f9f34b5",
   "metadata": {},
   "outputs": [
    {
     "data": {
      "text/plain": [
       "[10.720884912024333,\n",
       " 6.705912850779992,\n",
       " 45.8537618610192,\n",
       " 42.253783392213535,\n",
       " 3.4040731662245403,\n",
       " 12.854180135093413,\n",
       " 568.7650549617442,\n",
       " 674.0909552519605]"
      ]
     },
     "execution_count": 10,
     "metadata": {},
     "output_type": "execute_result"
    }
   ],
   "source": [
    "# Quick question, does this dataset have multicollinearity?\n",
    "from statsmodels.stats.outliers_influence import variance_inflation_factor\n",
    "\n",
    "# Remember, VIF > 10 is considered serious\n",
    "[variance_inflation_factor(X.values, f) for f in range(len(X.columns))] "
   ]
  },
  {
   "cell_type": "code",
   "execution_count": 11,
   "id": "49a78e22",
   "metadata": {},
   "outputs": [
    {
     "data": {
      "text/html": [
       "<div>\n",
       "<style scoped>\n",
       "    .dataframe tbody tr th:only-of-type {\n",
       "        vertical-align: middle;\n",
       "    }\n",
       "\n",
       "    .dataframe tbody tr th {\n",
       "        vertical-align: top;\n",
       "    }\n",
       "\n",
       "    .dataframe thead th {\n",
       "        text-align: right;\n",
       "    }\n",
       "</style>\n",
       "<table border=\"1\" class=\"dataframe\">\n",
       "  <thead>\n",
       "    <tr style=\"text-align: right;\">\n",
       "      <th></th>\n",
       "      <th>MedInc</th>\n",
       "      <th>HouseAge</th>\n",
       "      <th>AveRooms</th>\n",
       "      <th>AveBedrms</th>\n",
       "      <th>Population</th>\n",
       "      <th>AveOccup</th>\n",
       "      <th>Latitude</th>\n",
       "      <th>Longitude</th>\n",
       "    </tr>\n",
       "  </thead>\n",
       "  <tbody>\n",
       "    <tr>\n",
       "      <th>count</th>\n",
       "      <td>1000.000000</td>\n",
       "      <td>1000.000000</td>\n",
       "      <td>1000.000000</td>\n",
       "      <td>1000.000000</td>\n",
       "      <td>1000.000000</td>\n",
       "      <td>1000.000000</td>\n",
       "      <td>1000.000000</td>\n",
       "      <td>1000.000000</td>\n",
       "    </tr>\n",
       "    <tr>\n",
       "      <th>mean</th>\n",
       "      <td>3.797333</td>\n",
       "      <td>28.109000</td>\n",
       "      <td>5.445472</td>\n",
       "      <td>1.120013</td>\n",
       "      <td>1407.955000</td>\n",
       "      <td>2.932862</td>\n",
       "      <td>35.660080</td>\n",
       "      <td>-119.582050</td>\n",
       "    </tr>\n",
       "    <tr>\n",
       "      <th>std</th>\n",
       "      <td>1.877360</td>\n",
       "      <td>12.576139</td>\n",
       "      <td>2.851739</td>\n",
       "      <td>0.582361</td>\n",
       "      <td>995.183757</td>\n",
       "      <td>0.882048</td>\n",
       "      <td>2.142337</td>\n",
       "      <td>2.014985</td>\n",
       "    </tr>\n",
       "    <tr>\n",
       "      <th>min</th>\n",
       "      <td>0.805400</td>\n",
       "      <td>2.000000</td>\n",
       "      <td>1.598131</td>\n",
       "      <td>0.571429</td>\n",
       "      <td>32.000000</td>\n",
       "      <td>1.161290</td>\n",
       "      <td>32.570000</td>\n",
       "      <td>-124.250000</td>\n",
       "    </tr>\n",
       "    <tr>\n",
       "      <th>25%</th>\n",
       "      <td>2.509625</td>\n",
       "      <td>18.000000</td>\n",
       "      <td>4.363796</td>\n",
       "      <td>1.008379</td>\n",
       "      <td>794.000000</td>\n",
       "      <td>2.425389</td>\n",
       "      <td>33.937500</td>\n",
       "      <td>-121.760000</td>\n",
       "    </tr>\n",
       "    <tr>\n",
       "      <th>50%</th>\n",
       "      <td>3.384100</td>\n",
       "      <td>28.000000</td>\n",
       "      <td>5.148000</td>\n",
       "      <td>1.049282</td>\n",
       "      <td>1188.000000</td>\n",
       "      <td>2.810982</td>\n",
       "      <td>34.285000</td>\n",
       "      <td>-118.560000</td>\n",
       "    </tr>\n",
       "    <tr>\n",
       "      <th>75%</th>\n",
       "      <td>4.604925</td>\n",
       "      <td>37.000000</td>\n",
       "      <td>6.025256</td>\n",
       "      <td>1.098282</td>\n",
       "      <td>1722.000000</td>\n",
       "      <td>3.283559</td>\n",
       "      <td>37.692500</td>\n",
       "      <td>-117.990000</td>\n",
       "    </tr>\n",
       "    <tr>\n",
       "      <th>max</th>\n",
       "      <td>15.000100</td>\n",
       "      <td>52.000000</td>\n",
       "      <td>50.837838</td>\n",
       "      <td>10.270270</td>\n",
       "      <td>9360.000000</td>\n",
       "      <td>16.048780</td>\n",
       "      <td>41.780000</td>\n",
       "      <td>-114.660000</td>\n",
       "    </tr>\n",
       "  </tbody>\n",
       "</table>\n",
       "</div>"
      ],
      "text/plain": [
       "            MedInc     HouseAge     AveRooms    AveBedrms   Population  \\\n",
       "count  1000.000000  1000.000000  1000.000000  1000.000000  1000.000000   \n",
       "mean      3.797333    28.109000     5.445472     1.120013  1407.955000   \n",
       "std       1.877360    12.576139     2.851739     0.582361   995.183757   \n",
       "min       0.805400     2.000000     1.598131     0.571429    32.000000   \n",
       "25%       2.509625    18.000000     4.363796     1.008379   794.000000   \n",
       "50%       3.384100    28.000000     5.148000     1.049282  1188.000000   \n",
       "75%       4.604925    37.000000     6.025256     1.098282  1722.000000   \n",
       "max      15.000100    52.000000    50.837838    10.270270  9360.000000   \n",
       "\n",
       "          AveOccup     Latitude    Longitude  \n",
       "count  1000.000000  1000.000000  1000.000000  \n",
       "mean      2.932862    35.660080  -119.582050  \n",
       "std       0.882048     2.142337     2.014985  \n",
       "min       1.161290    32.570000  -124.250000  \n",
       "25%       2.425389    33.937500  -121.760000  \n",
       "50%       2.810982    34.285000  -118.560000  \n",
       "75%       3.283559    37.692500  -117.990000  \n",
       "max      16.048780    41.780000  -114.660000  "
      ]
     },
     "execution_count": 11,
     "metadata": {},
     "output_type": "execute_result"
    }
   ],
   "source": [
    "X.describe()"
   ]
  },
  {
   "cell_type": "markdown",
   "id": "7feef669",
   "metadata": {},
   "source": [
    "I guess, in a serious scenario, you would care in normalizing your data and taking care of wide ranges.\n",
    "\n",
    "### Partial dependence plots\n",
    "\n",
    "A partial dependence plot allows us to understand how a linear model's output changes when a feature change."
   ]
  },
  {
   "cell_type": "code",
   "execution_count": 12,
   "id": "d46f5fae",
   "metadata": {},
   "outputs": [
    {
     "data": {
      "image/png": "[encoded data removed]",
      "text/plain": [
       "<Figure size 640x480 with 4 Axes>"
      ]
     },
     "metadata": {},
     "output_type": "display_data"
    }
   ],
   "source": [
    "shap.partial_dependence_plot(\n",
    "    \"MedInc\",\n",
    "    model.predict,\n",
    "    X100,\n",
    "    ice=False,\n",
    "    model_expected_value=True,\n",
    "    feature_expected_value=True,\n",
    ")"
   ]
  },
  {
   "cell_type": "markdown",
   "id": "a47227c5",
   "metadata": {},
   "source": [
    "Here, $E[f(x)]$ is the expected value of the model; and, $E[feature]$ is the average value of said feature. In this case, \"MedInc\" stands for \"median income\". The blue line represents the average value of the model output when one fixes a value of said feature. The blue line must always pass through the intersection of both expected values. The intersection of both expected values is the _center_ of the partial dependence plot w.r.t. the dataset. More explanation on the center of the plot is coming. \n",
    "\n",
    "### Reading SHAP values from partial dependence plots"
   ]
  },
  {
   "cell_type": "code",
   "execution_count": null,
   "id": "ba910d4b",
   "metadata": {},
   "outputs": [],
   "source": []
  }
 ],
 "metadata": {
  "kernelspec": {
   "display_name": "Python 3 (ipykernel)",
   "language": "python",
   "name": "python3"
  },
  "language_info": {
   "codemirror_mode": {
    "name": "ipython",
    "version": 3
   },
   "file_extension": ".py",
   "mimetype": "text/x-python",
   "name": "python",
   "nbconvert_exporter": "python",
   "pygments_lexer": "ipython3",
   "version": "3.10.11"
  }
 },
 "nbformat": 4,
 "nbformat_minor": 5
}
