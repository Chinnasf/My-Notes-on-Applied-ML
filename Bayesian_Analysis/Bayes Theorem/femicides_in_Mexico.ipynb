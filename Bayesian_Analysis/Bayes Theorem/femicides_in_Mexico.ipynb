{
 "cells": [
  {
   "cell_type": "markdown",
   "metadata": {},
   "source": [
    "# BAYES THEOREM\n",
    "## Femicides in Mexico \n",
    "\n",
    "It is common for universities to introduce Bayes' Theorem using examples such as the probability of a positive test result for a rare disease, which a doctor must then further investigate. For some reason, that explanation never resonated with me. Instead, I decided to apply the theorem to a real-world case that my country faces every day: gender-based violence in Mexico.\n",
    "\n",
    "Femicide is a word to describe the the intentional murder of women or girls [[1](https://en.wikipedia.org/wiki/Femicide)]. In Mexico, data shows that femicides registered in the country are increasing [[2](https://pmc.ncbi.nlm.nih.gov/articles/PMC10745190/)], [[3]](https://www.inegi.org.mx/contenidos/programas/endireh/2021/doc/national_results.pdf); on average, 10 women and girls are murdered in Mexico [[4](https://www.theguardian.com/global-development/2021/sep/20/mexico-femicide-women-girls-amnesty-international-report)]. As of 2023, Colima State has the highest femicide rate, with over 4 out of every 100,000 women murdered because of their gender [[5](https://en.wikipedia.org/wiki/Femicide_in_Mexico)].\n",
    "\n",
    "Why did I choose to study Bayes' Theorem through this topic? Because I am privileged to have completed my master’s degree and begun a PhD in Europe. In the future, I intend to fully apply my academic knowledge to help improve the social conditions in my country. Mexico is not only a beautiful, culturally rich nation — it is also where my sisters live."
   ]
  },
  {
   "cell_type": "code",
   "execution_count": null,
   "metadata": {},
   "outputs": [],
   "source": [
    "import ipywidgets as widgets\n",
    "from ipywidgets import interact"
   ]
  },
  {
   "cell_type": "markdown",
   "metadata": {},
   "source": [
    "#### BAYES THEOREM\n",
    "\n",
    "Bayes Theorem can be used to update what is understood of a situation, based on new information. It is of the following form \n",
    "\n",
    "$$\n",
    "    p(\\theta|x) = \\frac{p(x|\\theta)\\cdot p(\\theta)}{p(x)}\n",
    "$$\n",
    "\n",
    "with\n",
    "* $p(\\theta|x)$ **Posterior**: the probability of event $\\theta$ given that $x$ is true.\n",
    "* $p(x|\\theta)$ **Lokelihood**: the probability of observing $x$ given that $\\theta$ is true.\n",
    "* $p(\\theta)$ **Prior**: the initial believe without any observation of $x$.\n",
    "* $p(x)$ **Evidence**: the probability of observing $x$."
   ]
  },
  {
   "cell_type": "markdown",
   "metadata": {},
   "source": [
    "#### CASE STUDY\n",
    "\n",
    "In Mexico, woman discovers the body of her best friend in her home. She reports the incident to the police and explains that her friend had repeatedly expressed concerns about her partner’s violent behavior. The partner is now missing. \n",
    "\n",
    "Given this information, the police are faced with the following question:\n",
    "\n",
    "    Based on the friend's testimony, how likely is it that the woman’s death should be classified and investigated as a femicide, even before the autopsy is conducted? \n",
    "    \n",
    "This question can be approached using Bayes’ Theorem. Also, was the partner violent enough to be a real threat? Let us have a look. "
   ]
  },
  {
   "cell_type": "markdown",
   "metadata": {},
   "source": [
    "* F: The death was due to a femicide\n",
    "* V: The partner is known to be violent (from trusted observation)\n",
    "* D: The woman is death (trusted fact)\n",
    "\n",
    "We want: \n",
    "\n",
    "$$\n",
    "    p(F | D,V) = \\text{probability of femicide given an observed death and known violence}. \n",
    "$$\n",
    "\n",
    "* **Prior** $p(f | D)$: How likely is femicide among all deaths?\n",
    "* **Likelihood** $p(V | F, D)$: How often do femicide victims have violent partners?\n",
    "* **Evidence** $p(V|D)$ how often are any dead women reported to have violent partners?"
   ]
  },
  {
   "cell_type": "markdown",
   "metadata": {},
   "source": [
    "### WHERE TO GATHER THE DATA? \n",
    "\n",
    "[The European Union states](https://ec.europa.eu/eurostat/statistics-explained/index.php?title=Gender-based_violence_statistics): _Home is not always a safe place for many women. In 2021, 18% of women who had ever had a partner experienced physical or sexual violence by their partner; if psychological violence is also taken into account, 32% have or have had a violent partner in their lifetime._\n",
    "\n",
    "However, since we are focusing on a specific region—Mexico—using data from other parts of the world would introduce noise into the analysis. Similarly, combining data from different years could distort the results. Therefore, it is strongly recommended to use data from the same location and time period whenever possible.\n",
    "\n",
    "That said, since this is an illustrative case, we will proceed with general assumptions.\n",
    "\n",
    "The women population in Mexico is around 66 million people [[6]](https://data.worldbank.org/indicator/SP.POP.TOTL.FE.IN?locations=MX). About 10 femicides happen a day, this implies that 3600 could be registered per year. It could be incorrectly assumed that \n",
    "\n",
    "$$\n",
    "    p(F) \\rightarrow \\frac{3600}{66\\cdot10^{6}} =  0.000055.\n",
    "$$\n",
    "\n",
    "If we were to assume that  $p(F)=0.0054$%, , this would imply that femicide is an extremely rare cause of death in the country—suggesting that almost no women die from gender-based violence. However, this interpretation is incorrect because we need the prior probability among women who have died, not among the entire female population.\n",
    "\n",
    "Unfortunately, reliable data on the total number of female deaths in Mexico per year—regardless of cause—is difficult to obtain. Therefore, for simplicity, we will assume that approximately 30,000 women die each year in Mexico from all causes. Thus\n",
    "\n",
    "$$\n",
    "    p(F) = \\frac{3600}{30000} = 0.12 = 12\\%\n",
    "$$\n",
    "\n",
    "Now, let's assume that 90% of all registered femicides have involved violence [[7](https://www.unwomen.org/sites/default/files/2024-11/femicides-in-2023-global-estimates-of-intimate-partner-family-member-femicides-en.pdf)]; thus, $p(V|F,D) = 0.9$. Finally, let's assume that 15% of women who have died had reported that their parterns were violent towards them. Thus, $p(D|V) = 0.15$. Therefore:\n",
    "\n",
    "$$\n",
    "    P(F|D,V) = \\frac{p(V|F,D)\\cdot p(F)}{p(D|V)}= \\frac{0.9\\cdot0.12}{0.15} = 0.72 = 72\\%\n",
    "$$\n",
    "\n",
    "Now, let's assume that we do not simply want to plug any number to the evidence $p(D|V)$, how can we dig a bit further? Mathematically speaking:\n",
    "\n",
    "$$\n",
    "    p(D|V) = p(D|V,F)\\cdot p(F|V) + p(D|V,\\neg F)\\cdot p(\\neg F|V).\n",
    "$$\n",
    "\n",
    "When working with **Bayesian chains**, one needs to keep the conditioning, in this case V, in all terms. In other words, one needs trhe **marginal** over the femicide status given the parter was violent\n",
    "\n",
    "$$\n",
    "    p(D|V) = \\sum_F p(D|V,F) \\cdot p(F|V)\n",
    "$$\n",
    "\n",
    "This is using the **law of total probability**, but within the condition $V$. To get $p(F|V)$, one can **use Bayes theorem again**! \n",
    "\n",
    "$$\n",
    "    p(F|V) = \\frac{p(V|F)p(F)}{p(V)}\n",
    "$$\n",
    "\n",
    "And so on. When working with chains, it's becomes recursive process — Bayes is all about nesting conditionals with logic and knowns. Finally, in this context:\n",
    "\n",
    "* $p(D|V,\\neg F)$: The probability that a woman dies, given that her partner is violent and the death is not a femicide.\n",
    "    * This is a conditional death rate for women in violent relationships when femicide is ruled out — meaning the cause of death is something else (illness, accident, suicide, etc.).\n",
    "    * How dangerous violent partners are even outside of femicide.\n",
    "    * Could include indirect consequences (e.g. stress-related illness, accidents in a violent household, lack of medical attention).\n",
    "    * **Even if the death wasn't due to femicide, how likely is it that a woman with a violent partner still dies?** \n",
    "\n",
    "* $p(\\neg F|V)$: The probability that a woman’s death is not a femicide, given that her partner was violent.\n",
    "    * This is a posterior probability about the cause of death (again, Bayes Theorem is used).\n",
    "    * It reflects on how common it is for women in violent relationships to die from causes other than femicide.\n",
    "    * It’s the complement of $p(F|V)$ the likelihood the death was not due to intentional gender-based killing, even though the partner was violent.\n",
    "    * **Given that the partner was violent, how likely is it that her death was still not a femicide?**\n",
    "\n",
    "In short:\n",
    "\n",
    "* The **chance of** dying is **other than** femicide, given a violent partner: $p(D|V,\\neg F)$\n",
    "* The **cause of** death was **other than** femicide, given a violent partner: $p(F|V)$. \n",
    "\n"
   ]
  },
  {
   "cell_type": "markdown",
   "metadata": {},
   "source": [
    "### ITERATIVE ANALYSIS"
   ]
  },
  {
   "cell_type": "code",
   "execution_count": 7,
   "metadata": {},
   "outputs": [
    {
     "data": {
      "application/vnd.jupyter.widget-view+json": {
       "model_id": "c978be740e924a668bcbf23d21ca6492",
       "version_major": 2,
       "version_minor": 0
      },
      "text/plain": [
       "interactive(children=(FloatSlider(value=0.01, continuous_update=False, description='P(O|~F)', max=0.3, step=0.…"
      ]
     },
     "metadata": {},
     "output_type": "display_data"
    }
   ],
   "source": [
    "def interactive_bayes(false_suspicion_rate):\n",
    "    P_F = 0.12\n",
    "    P_notF = 1 - P_F\n",
    "    P_O_given_F = 0.15\n",
    "    P_O_given_notF = false_suspicion_rate\n",
    "\n",
    "    # Bayes' Theorem\n",
    "    numerator = P_O_given_F * P_F\n",
    "    denominator = numerator + (P_O_given_notF * P_notF)\n",
    "    P_F_given_O = numerator / denominator if denominator != 0 else 0\n",
    "\n",
    "    print(f\"False suspicion rate (P(O|~F)): {false_suspicion_rate:.3f}\")\n",
    "    print(f\"→ P(Femicide | Observation): {P_F_given_O:.2%}\")\n",
    "\n",
    "# Interactive slider\n",
    "interact(\n",
    "    interactive_bayes,\n",
    "    false_suspicion_rate=widgets.FloatSlider(\n",
    "        value=0.01,\n",
    "        min=0.0,\n",
    "        max=0.3,\n",
    "        step=0.005,\n",
    "        description='P(O|~F)',\n",
    "        continuous_update=False\n",
    "    )\n",
    ");"
   ]
  },
  {
   "cell_type": "code",
   "execution_count": null,
   "metadata": {},
   "outputs": [],
   "source": []
  }
 ],
 "metadata": {
  "kernelspec": {
   "display_name": "GPU_optimization",
   "language": "python",
   "name": "python3"
  },
  "language_info": {
   "codemirror_mode": {
    "name": "ipython",
    "version": 3
   },
   "file_extension": ".py",
   "mimetype": "text/x-python",
   "name": "python",
   "nbconvert_exporter": "python",
   "pygments_lexer": "ipython3",
   "version": "3.10.16"
  }
 },
 "nbformat": 4,
 "nbformat_minor": 2
}
